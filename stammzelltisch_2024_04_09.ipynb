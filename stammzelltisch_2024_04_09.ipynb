{
 "cells": [
  {
   "cell_type": "markdown",
   "metadata": {},
   "source": [
    "## Stammzelltisch 9.4.2024 - Large language model tutorial"
   ]
  },
  {
   "cell_type": "markdown",
   "metadata": {},
   "source": [
    "## Setup - to be done ideally in advance"
   ]
  },
  {
   "cell_type": "markdown",
   "metadata": {},
   "source": [
    "What we need:\n",
    "* Laptop with at least 8 Gb of Ram (tutorial tested mainly on Apple silicon)\n",
    "* Terminal (with homebrew on Macos)\n",
    "* Browser\n",
    "* Optional: OpenAI account - you can create it [here](https://platform.openai.com/signup)"
   ]
  },
  {
   "cell_type": "markdown",
   "metadata": {},
   "source": [
    "* Install miniconda\n",
    "    * On Mac: `brew install --cask miniconda`\n",
    "    * Else: Follow instructions [here](https://docs.anaconda.com/free/miniconda/miniconda-install/)\n",
    "* Install Ollama\n",
    "    * On Mac: `brew install ollama`\n",
    "    * Else: Follow instructions [here](https://ollama.com/download/mac)\n",
    "    * See which llms are installed locally: `ollama list`\n",
    "```\n",
    "ollama serve\n",
    "ollama run llama2\n",
    "```"
   ]
  },
  {
   "cell_type": "code",
   "execution_count": 21,
   "metadata": {
    "vscode": {
     "languageId": "shellscript"
    }
   },
   "outputs": [
    {
     "name": "stdout",
     "output_type": "stream",
     "text": [
      "Retrieving notices: ...working... done\n",
      "Channels:\n",
      " - conda-forge\n",
      " - defaults\n",
      "Platform: osx-arm64\n",
      "Collecting package metadata (repodata.json): done\n",
      "Solving environment: done\n",
      "\n",
      "Downloading and Extracting Packages:\n",
      "\n",
      "Preparing transaction: done\n",
      "Verifying transaction: done\n",
      "Executing transaction: done\n",
      "Installing pip dependencies: / Ran pip subprocess with arguments:\n",
      "['/Users/seb/miniconda3/envs/stammzelltisch/bin/python', '-m', 'pip', 'install', '-U', '-r', '/Users/seb/Documents/Projects/2024_04_09_stammzelltisch/condaenv.c6zgtxqr.requirements.txt', '--exists-action=b']\n",
      "Pip subprocess output:\n",
      "Collecting aiohttp==3.9.3 (from -r /Users/seb/Documents/Projects/2024_04_09_stammzelltisch/condaenv.c6zgtxqr.requirements.txt (line 1))\n",
      "  Using cached aiohttp-3.9.3-cp312-cp312-macosx_11_0_arm64.whl.metadata (7.4 kB)\n",
      "Collecting aiosignal==1.3.1 (from -r /Users/seb/Documents/Projects/2024_04_09_stammzelltisch/condaenv.c6zgtxqr.requirements.txt (line 2))\n",
      "  Using cached aiosignal-1.3.1-py3-none-any.whl.metadata (4.0 kB)\n",
      "Collecting annotated-types==0.6.0 (from -r /Users/seb/Documents/Projects/2024_04_09_stammzelltisch/condaenv.c6zgtxqr.requirements.txt (line 3))\n",
      "  Using cached annotated_types-0.6.0-py3-none-any.whl.metadata (12 kB)\n",
      "Collecting anyio==4.3.0 (from -r /Users/seb/Documents/Projects/2024_04_09_stammzelltisch/condaenv.c6zgtxqr.requirements.txt (line 4))\n",
      "  Using cached anyio-4.3.0-py3-none-any.whl.metadata (4.6 kB)\n",
      "Collecting attrs==23.2.0 (from -r /Users/seb/Documents/Projects/2024_04_09_stammzelltisch/condaenv.c6zgtxqr.requirements.txt (line 5))\n",
      "  Using cached attrs-23.2.0-py3-none-any.whl.metadata (9.5 kB)\n",
      "Collecting beautifulsoup4==4.12.3 (from -r /Users/seb/Documents/Projects/2024_04_09_stammzelltisch/condaenv.c6zgtxqr.requirements.txt (line 6))\n",
      "  Using cached beautifulsoup4-4.12.3-py3-none-any.whl.metadata (3.8 kB)\n",
      "Collecting bs4==0.0.2 (from -r /Users/seb/Documents/Projects/2024_04_09_stammzelltisch/condaenv.c6zgtxqr.requirements.txt (line 7))\n",
      "  Using cached bs4-0.0.2-py2.py3-none-any.whl.metadata (411 bytes)\n",
      "Collecting certifi==2024.2.2 (from -r /Users/seb/Documents/Projects/2024_04_09_stammzelltisch/condaenv.c6zgtxqr.requirements.txt (line 8))\n",
      "  Using cached certifi-2024.2.2-py3-none-any.whl.metadata (2.2 kB)\n",
      "Collecting charset-normalizer==3.3.2 (from -r /Users/seb/Documents/Projects/2024_04_09_stammzelltisch/condaenv.c6zgtxqr.requirements.txt (line 9))\n",
      "  Using cached charset_normalizer-3.3.2-cp312-cp312-macosx_11_0_arm64.whl.metadata (33 kB)\n",
      "Collecting dataclasses-json==0.6.4 (from -r /Users/seb/Documents/Projects/2024_04_09_stammzelltisch/condaenv.c6zgtxqr.requirements.txt (line 10))\n",
      "  Using cached dataclasses_json-0.6.4-py3-none-any.whl.metadata (25 kB)\n",
      "Collecting diskcache==5.6.3 (from -r /Users/seb/Documents/Projects/2024_04_09_stammzelltisch/condaenv.c6zgtxqr.requirements.txt (line 11))\n",
      "  Using cached diskcache-5.6.3-py3-none-any.whl.metadata (20 kB)\n",
      "Collecting faiss-cpu==1.8.0 (from -r /Users/seb/Documents/Projects/2024_04_09_stammzelltisch/condaenv.c6zgtxqr.requirements.txt (line 12))\n",
      "  Using cached faiss_cpu-1.8.0-cp312-cp312-macosx_11_0_arm64.whl.metadata (3.6 kB)\n",
      "Collecting frozenlist==1.4.1 (from -r /Users/seb/Documents/Projects/2024_04_09_stammzelltisch/condaenv.c6zgtxqr.requirements.txt (line 13))\n",
      "  Using cached frozenlist-1.4.1-cp312-cp312-macosx_11_0_arm64.whl.metadata (12 kB)\n",
      "Collecting idna==3.6 (from -r /Users/seb/Documents/Projects/2024_04_09_stammzelltisch/condaenv.c6zgtxqr.requirements.txt (line 14))\n",
      "  Using cached idna-3.6-py3-none-any.whl.metadata (9.9 kB)\n",
      "Collecting jinja2==3.1.3 (from -r /Users/seb/Documents/Projects/2024_04_09_stammzelltisch/condaenv.c6zgtxqr.requirements.txt (line 15))\n",
      "  Using cached Jinja2-3.1.3-py3-none-any.whl.metadata (3.3 kB)\n",
      "Collecting jsonpatch==1.33 (from -r /Users/seb/Documents/Projects/2024_04_09_stammzelltisch/condaenv.c6zgtxqr.requirements.txt (line 16))\n",
      "  Using cached jsonpatch-1.33-py2.py3-none-any.whl.metadata (3.0 kB)\n",
      "Collecting jsonpointer==2.4 (from -r /Users/seb/Documents/Projects/2024_04_09_stammzelltisch/condaenv.c6zgtxqr.requirements.txt (line 17))\n",
      "  Using cached jsonpointer-2.4-py2.py3-none-any.whl.metadata (2.5 kB)\n",
      "Collecting langchain==0.1.11 (from -r /Users/seb/Documents/Projects/2024_04_09_stammzelltisch/condaenv.c6zgtxqr.requirements.txt (line 18))\n",
      "  Using cached langchain-0.1.11-py3-none-any.whl.metadata (13 kB)\n",
      "Collecting langchain-community==0.0.25 (from -r /Users/seb/Documents/Projects/2024_04_09_stammzelltisch/condaenv.c6zgtxqr.requirements.txt (line 19))\n",
      "  Using cached langchain_community-0.0.25-py3-none-any.whl.metadata (8.1 kB)\n",
      "Collecting langchain-core==0.1.29 (from -r /Users/seb/Documents/Projects/2024_04_09_stammzelltisch/condaenv.c6zgtxqr.requirements.txt (line 20))\n",
      "  Using cached langchain_core-0.1.29-py3-none-any.whl.metadata (6.0 kB)\n",
      "Collecting langchain-text-splitters==0.0.1 (from -r /Users/seb/Documents/Projects/2024_04_09_stammzelltisch/condaenv.c6zgtxqr.requirements.txt (line 21))\n",
      "  Using cached langchain_text_splitters-0.0.1-py3-none-any.whl.metadata (2.0 kB)\n",
      "Collecting langsmith==0.1.22 (from -r /Users/seb/Documents/Projects/2024_04_09_stammzelltisch/condaenv.c6zgtxqr.requirements.txt (line 22))\n",
      "  Using cached langsmith-0.1.22-py3-none-any.whl.metadata (13 kB)\n",
      "Collecting llama-cpp-python==0.2.55 (from -r /Users/seb/Documents/Projects/2024_04_09_stammzelltisch/condaenv.c6zgtxqr.requirements.txt (line 23))\n",
      "  Using cached llama_cpp_python-0.2.55-cp312-cp312-macosx_14_0_arm64.whl\n",
      "Collecting markupsafe==2.1.5 (from -r /Users/seb/Documents/Projects/2024_04_09_stammzelltisch/condaenv.c6zgtxqr.requirements.txt (line 24))\n",
      "  Using cached MarkupSafe-2.1.5-cp312-cp312-macosx_10_9_universal2.whl.metadata (3.0 kB)\n",
      "Collecting marshmallow==3.21.1 (from -r /Users/seb/Documents/Projects/2024_04_09_stammzelltisch/condaenv.c6zgtxqr.requirements.txt (line 25))\n",
      "  Using cached marshmallow-3.21.1-py3-none-any.whl.metadata (7.2 kB)\n",
      "Collecting multidict==6.0.5 (from -r /Users/seb/Documents/Projects/2024_04_09_stammzelltisch/condaenv.c6zgtxqr.requirements.txt (line 26))\n",
      "  Using cached multidict-6.0.5-cp312-cp312-macosx_11_0_arm64.whl.metadata (4.2 kB)\n",
      "Collecting mypy-extensions==1.0.0 (from -r /Users/seb/Documents/Projects/2024_04_09_stammzelltisch/condaenv.c6zgtxqr.requirements.txt (line 27))\n",
      "  Using cached mypy_extensions-1.0.0-py3-none-any.whl.metadata (1.1 kB)\n",
      "Collecting numpy==1.26.4 (from -r /Users/seb/Documents/Projects/2024_04_09_stammzelltisch/condaenv.c6zgtxqr.requirements.txt (line 28))\n",
      "  Using cached numpy-1.26.4-cp312-cp312-macosx_11_0_arm64.whl.metadata (61 kB)\n",
      "Collecting orjson==3.9.15 (from -r /Users/seb/Documents/Projects/2024_04_09_stammzelltisch/condaenv.c6zgtxqr.requirements.txt (line 29))\n",
      "  Using cached orjson-3.9.15-cp312-cp312-macosx_10_15_x86_64.macosx_11_0_arm64.macosx_10_15_universal2.whl.metadata (49 kB)\n",
      "Collecting pydantic==2.6.3 (from -r /Users/seb/Documents/Projects/2024_04_09_stammzelltisch/condaenv.c6zgtxqr.requirements.txt (line 30))\n",
      "  Using cached pydantic-2.6.3-py3-none-any.whl.metadata (84 kB)\n",
      "Collecting pydantic-core==2.16.3 (from -r /Users/seb/Documents/Projects/2024_04_09_stammzelltisch/condaenv.c6zgtxqr.requirements.txt (line 31))\n",
      "  Using cached pydantic_core-2.16.3-cp312-cp312-macosx_11_0_arm64.whl.metadata (6.5 kB)\n",
      "Collecting pyyaml==6.0.1 (from -r /Users/seb/Documents/Projects/2024_04_09_stammzelltisch/condaenv.c6zgtxqr.requirements.txt (line 32))\n",
      "  Using cached PyYAML-6.0.1-cp312-cp312-macosx_11_0_arm64.whl.metadata (2.1 kB)\n",
      "Collecting requests==2.31.0 (from -r /Users/seb/Documents/Projects/2024_04_09_stammzelltisch/condaenv.c6zgtxqr.requirements.txt (line 33))\n",
      "  Using cached requests-2.31.0-py3-none-any.whl.metadata (4.6 kB)\n",
      "Collecting sniffio==1.3.1 (from -r /Users/seb/Documents/Projects/2024_04_09_stammzelltisch/condaenv.c6zgtxqr.requirements.txt (line 34))\n",
      "  Using cached sniffio-1.3.1-py3-none-any.whl.metadata (3.9 kB)\n",
      "Collecting soupsieve==2.5 (from -r /Users/seb/Documents/Projects/2024_04_09_stammzelltisch/condaenv.c6zgtxqr.requirements.txt (line 35))\n",
      "  Using cached soupsieve-2.5-py3-none-any.whl.metadata (4.7 kB)\n",
      "Collecting sqlalchemy==2.0.28 (from -r /Users/seb/Documents/Projects/2024_04_09_stammzelltisch/condaenv.c6zgtxqr.requirements.txt (line 36))\n",
      "  Using cached SQLAlchemy-2.0.28-cp312-cp312-macosx_11_0_arm64.whl.metadata (9.6 kB)\n",
      "Collecting tenacity==8.2.3 (from -r /Users/seb/Documents/Projects/2024_04_09_stammzelltisch/condaenv.c6zgtxqr.requirements.txt (line 37))\n",
      "  Using cached tenacity-8.2.3-py3-none-any.whl.metadata (1.0 kB)\n",
      "Collecting typing-inspect==0.9.0 (from -r /Users/seb/Documents/Projects/2024_04_09_stammzelltisch/condaenv.c6zgtxqr.requirements.txt (line 38))\n",
      "  Using cached typing_inspect-0.9.0-py3-none-any.whl.metadata (1.5 kB)\n",
      "Collecting urllib3==2.2.1 (from -r /Users/seb/Documents/Projects/2024_04_09_stammzelltisch/condaenv.c6zgtxqr.requirements.txt (line 39))\n",
      "  Using cached urllib3-2.2.1-py3-none-any.whl.metadata (6.4 kB)\n",
      "Collecting yarl==1.9.4 (from -r /Users/seb/Documents/Projects/2024_04_09_stammzelltisch/condaenv.c6zgtxqr.requirements.txt (line 40))\n",
      "  Using cached yarl-1.9.4-cp312-cp312-macosx_11_0_arm64.whl.metadata (31 kB)\n",
      "Requirement already satisfied: packaging<24.0,>=23.2 in /Users/seb/miniconda3/envs/stammzelltisch/lib/python3.12/site-packages (from langchain-core==0.1.29->-r /Users/seb/Documents/Projects/2024_04_09_stammzelltisch/condaenv.c6zgtxqr.requirements.txt (line 20)) (23.2)\n",
      "Requirement already satisfied: typing-extensions>=4.5.0 in /Users/seb/miniconda3/envs/stammzelltisch/lib/python3.12/site-packages (from llama-cpp-python==0.2.55->-r /Users/seb/Documents/Projects/2024_04_09_stammzelltisch/condaenv.c6zgtxqr.requirements.txt (line 23)) (4.10.0)\n",
      "Using cached aiohttp-3.9.3-cp312-cp312-macosx_11_0_arm64.whl (389 kB)\n",
      "Using cached aiosignal-1.3.1-py3-none-any.whl (7.6 kB)\n",
      "Using cached annotated_types-0.6.0-py3-none-any.whl (12 kB)\n",
      "Using cached anyio-4.3.0-py3-none-any.whl (85 kB)\n",
      "Using cached attrs-23.2.0-py3-none-any.whl (60 kB)\n",
      "Using cached beautifulsoup4-4.12.3-py3-none-any.whl (147 kB)\n",
      "Using cached bs4-0.0.2-py2.py3-none-any.whl (1.2 kB)\n",
      "Using cached certifi-2024.2.2-py3-none-any.whl (163 kB)\n",
      "Using cached charset_normalizer-3.3.2-cp312-cp312-macosx_11_0_arm64.whl (119 kB)\n",
      "Using cached dataclasses_json-0.6.4-py3-none-any.whl (28 kB)\n",
      "Using cached diskcache-5.6.3-py3-none-any.whl (45 kB)\n",
      "Using cached faiss_cpu-1.8.0-cp312-cp312-macosx_11_0_arm64.whl (3.1 MB)\n",
      "Using cached frozenlist-1.4.1-cp312-cp312-macosx_11_0_arm64.whl (51 kB)\n",
      "Using cached idna-3.6-py3-none-any.whl (61 kB)\n",
      "Using cached Jinja2-3.1.3-py3-none-any.whl (133 kB)\n",
      "Using cached jsonpatch-1.33-py2.py3-none-any.whl (12 kB)\n",
      "Using cached jsonpointer-2.4-py2.py3-none-any.whl (7.8 kB)\n",
      "Using cached langchain-0.1.11-py3-none-any.whl (807 kB)\n",
      "Using cached langchain_community-0.0.25-py3-none-any.whl (1.8 MB)\n",
      "Using cached langchain_core-0.1.29-py3-none-any.whl (252 kB)\n",
      "Using cached langchain_text_splitters-0.0.1-py3-none-any.whl (21 kB)\n",
      "Using cached langsmith-0.1.22-py3-none-any.whl (66 kB)\n",
      "Using cached MarkupSafe-2.1.5-cp312-cp312-macosx_10_9_universal2.whl (18 kB)\n",
      "Using cached marshmallow-3.21.1-py3-none-any.whl (49 kB)\n",
      "Using cached multidict-6.0.5-cp312-cp312-macosx_11_0_arm64.whl (29 kB)\n",
      "Using cached mypy_extensions-1.0.0-py3-none-any.whl (4.7 kB)\n",
      "Using cached numpy-1.26.4-cp312-cp312-macosx_11_0_arm64.whl (13.7 MB)\n",
      "Using cached orjson-3.9.15-cp312-cp312-macosx_10_15_x86_64.macosx_11_0_arm64.macosx_10_15_universal2.whl (248 kB)\n",
      "Using cached pydantic-2.6.3-py3-none-any.whl (395 kB)\n",
      "Using cached pydantic_core-2.16.3-cp312-cp312-macosx_11_0_arm64.whl (1.7 MB)\n",
      "Using cached PyYAML-6.0.1-cp312-cp312-macosx_11_0_arm64.whl (165 kB)\n",
      "Using cached requests-2.31.0-py3-none-any.whl (62 kB)\n",
      "Using cached sniffio-1.3.1-py3-none-any.whl (10 kB)\n",
      "Using cached soupsieve-2.5-py3-none-any.whl (36 kB)\n",
      "Using cached SQLAlchemy-2.0.28-cp312-cp312-macosx_11_0_arm64.whl (2.1 MB)\n",
      "Using cached tenacity-8.2.3-py3-none-any.whl (24 kB)\n",
      "Using cached typing_inspect-0.9.0-py3-none-any.whl (8.8 kB)\n",
      "Using cached urllib3-2.2.1-py3-none-any.whl (121 kB)\n",
      "Using cached yarl-1.9.4-cp312-cp312-macosx_11_0_arm64.whl (79 kB)\n",
      "Installing collected packages: urllib3, tenacity, sqlalchemy, soupsieve, sniffio, pyyaml, pydantic-core, orjson, numpy, mypy-extensions, multidict, marshmallow, markupsafe, jsonpointer, idna, frozenlist, diskcache, charset-normalizer, certifi, attrs, annotated-types, yarl, typing-inspect, requests, pydantic, jsonpatch, jinja2, faiss-cpu, beautifulsoup4, anyio, aiosignal, llama-cpp-python, langsmith, dataclasses-json, bs4, aiohttp, langchain-core, langchain-text-splitters, langchain-community, langchain\n",
      "Successfully installed aiohttp-3.9.3 aiosignal-1.3.1 annotated-types-0.6.0 anyio-4.3.0 attrs-23.2.0 beautifulsoup4-4.12.3 bs4-0.0.2 certifi-2024.2.2 charset-normalizer-3.3.2 dataclasses-json-0.6.4 diskcache-5.6.3 faiss-cpu-1.8.0 frozenlist-1.4.1 idna-3.6 jinja2-3.1.3 jsonpatch-1.33 jsonpointer-2.4 langchain-0.1.11 langchain-community-0.0.25 langchain-core-0.1.29 langchain-text-splitters-0.0.1 langsmith-0.1.22 llama-cpp-python-0.2.55 markupsafe-2.1.5 marshmallow-3.21.1 multidict-6.0.5 mypy-extensions-1.0.0 numpy-1.26.4 orjson-3.9.15 pydantic-2.6.3 pydantic-core-2.16.3 pyyaml-6.0.1 requests-2.31.0 sniffio-1.3.1 soupsieve-2.5 sqlalchemy-2.0.28 tenacity-8.2.3 typing-inspect-0.9.0 urllib3-2.2.1 yarl-1.9.4\n",
      "\n",
      "done\n",
      "#\n",
      "# To activate this environment, use\n",
      "#\n",
      "#     $ conda activate stammzelltisch\n",
      "#\n",
      "# To deactivate an active environment, use\n",
      "#\n",
      "#     $ conda deactivate\n",
      "\n",
      "\n",
      "CondaError: Run 'conda init' before 'conda activate'\n",
      "\n"
     ]
    }
   ],
   "source": [
    "conda env create --name stammzelltisch -f stammzelltisch.yml\n",
    "conda activate stammzelltisch\n",
    "jupyter notebook"
   ]
  },
  {
   "cell_type": "markdown",
   "metadata": {},
   "source": [
    "## "
   ]
  },
  {
   "cell_type": "code",
   "execution_count": 20,
   "metadata": {},
   "outputs": [],
   "source": [
    "!conda env export > stammzelltisch.yml"
   ]
  },
  {
   "cell_type": "code",
   "execution_count": 1,
   "metadata": {},
   "outputs": [],
   "source": [
    "from langchain_community.llms import Ollama\n",
    "# llm = Ollama(model=\"gemma:2b\")\n",
    "llm = Ollama(model=\"llama2\")"
   ]
  },
  {
   "cell_type": "code",
   "execution_count": 2,
   "metadata": {},
   "outputs": [
    {
     "name": "stdout",
     "output_type": "stream",
     "text": [
      "\n",
      "Of course, I'd be happy to help! Here are some general tips and advice for cooking delicious food:\n",
      "\n",
      "1. Start with fresh ingredients: The quality of your ingredients will directly impact the taste of your finished dish. Make sure to use fresh produce and meats whenever possible.\n",
      "2. Use proper cooking techniques: Understanding basic cooking techniques such as sautéing, roasting, and braising can help you prepare a wide variety of dishes. Practice these techniques until they become second nature.\n",
      "3. Experiment with new recipes: Don't be afraid to try new recipes and flavor combinations. This is the best way to discover your own personal cooking style and find what works best for you.\n",
      "4. Taste as you go: Don't be afraid to taste your food as you go along and adjust seasonings or ingredients accordingly. This will help you develop your own personal flavor profile.\n",
      "5. Keep it simple: Don't feel like you need to use a lot of complicated ingredients or techniques to create a delicious meal. Simple dishes can be just as tasty and satisfying as more complex ones.\n",
      "6. Use herbs and spices: Herbs and spices can add a lot of flavor to your dishes without adding a lot of extra ingredients. Experiment with different combinations to find what works best for you.\n",
      "7. Don't be afraid to make mistakes: Everyone makes mistakes in the kitchen, even experienced cooks. The key is to learn from them and move on.\n",
      "8. Have fun: Cooking should be enjoyable, so don't stress too much about making mistakes or not getting it perfect. Experiment with new recipes and ingredients, and have fun with the process.\n",
      "9. Use quality cookware: Invest in good-quality pots, pans, and utensils. This will make cooking easier and more enjoyable, and can help you achieve better results.\n",
      "10. Take breaks and don't overwork yourself: Cooking can be physically demanding, so make sure to take breaks and give yourself time to rest and recharge. This will help you stay focused and avoid burnout.\n",
      "\n",
      "I hope these tips are helpful! Do you have any specific questions or areas of cooking you'd like advice on?\n"
     ]
    }
   ],
   "source": [
    "result = llm.invoke(\"Give me some advice for cooking delicious food, please!\")\n",
    "print(result)"
   ]
  },
  {
   "cell_type": "code",
   "execution_count": 9,
   "metadata": {},
   "outputs": [
    {
     "name": "stdout",
     "output_type": "stream",
     "text": [
      "\n",
      "Tiramisu is a classic Italian dessert that is traditionally made with ladyfingers soaked in coffee and liqueur, layered with a creamy mascarpone cheese mixture. As a vegan, you can easily replicate this recipe using plant-based ingredients. Here's a recipe for a delicious vegan Tiramisu:\n",
      "\n",
      "Ingredients:\n",
      "\n",
      "* 12-16 ladyfingers (you can use any type of cookie or biscuit)\n",
      "* 1 cup strong brewed coffee\n",
      "* 1/4 cup vegan mascarpone cheese (such as tofu or soy-based cream cheese)\n",
      "* 1/4 cup non-dairy milk (such as almond, soy, or coconut milk)\n",
      "* 1/4 cup granulated sugar\n",
      "* 1 tsp vanilla extract\n",
      "* Cocoa powder for dusting (optional)\n",
      "\n",
      "Instructions:\n",
      "\n",
      "1. In a large mixing bowl, combine the coffee and non-dairy milk. Stir until well combined.\n",
      "2. Dip each ladyfinger into the coffee mixture for about 3-5 seconds on each side. They should be soft and pliable but not too wet.\n",
      "3. In a separate mixing bowl, combine the vegan mascarpone cheese, granulated sugar, and vanilla extract. Mix until smooth and creamy.\n",
      "4. To assemble the Tiramisu, start with a layer of ladyfingers in the bottom of a serving dish. You may need to trim the ladyfingers to fit the dish.\n",
      "5. Spread half of the mascarpone mixture over the ladyfingers.\n",
      "6. Repeat the layers, starting with the ladyfingers, then the coffee mixture, and finally the remaining mascarpone mixture.\n",
      "7. Dust the top of the Tiramisu with cocoa powder (if using) and refrigerate for at least 30 minutes to set.\n",
      "8. Serve chilled and enjoy!\n",
      "\n",
      "Note: If you want a creamier Tiramisu, you can try soaking the ladyfingers in the coffee mixture for a longer time or using a higher ratio of coffee to non-dairy milk. You can also experiment with different flavorings, such as adding a little bit of espresso powder or cocoa nibs to the mascarpone mixture for added depth of flavor.\n"
     ]
    }
   ],
   "source": [
    "result = llm.invoke(\"Please show me a recipe for a vegan Tiramisu!\")\n",
    "print(result)\n"
   ]
  },
  {
   "cell_type": "code",
   "execution_count": 10,
   "metadata": {},
   "outputs": [
    {
     "name": "stdout",
     "output_type": "stream",
     "text": [
      "\n",
      "Crikey, mate! Life's a bloody mystery, innit? *adjusts sunglasses* One minute you're chuckin' a sickie at work to hit the beach, and the next you're juggling a million responsibilities like a boss. It's a real head-scratcher, mate.\n",
      "\n",
      "But, ya know what? I reckon that's the beauty of it all. Life's unpredictable, and we never know what's comin' our way. *cracks knuckles* That's why we gotta make the most of every moment, mate. Take risks, chase your dreams, and don't be afraid to get a little messy along the way.\n",
      "\n",
      "And hey, even when things get tough, just remember: there's always a bloody good time to be had somewhere. *winks* Whether it's a cold one at the local pub or a beach party with your mates, life's too short to waste on the ordinary. So go out there and make some memories, mate!\n",
      "\n",
      "And that's my two bob's worth on the matter, innit? *adjusts sunglasses* What do you reckon, mate?\n"
     ]
    }
   ],
   "source": [
    "from langchain_core.prompts import ChatPromptTemplate\n",
    "prompt = ChatPromptTemplate.from_messages([\n",
    "    (\"system\", \"You talk like an Australian guy.\"),\n",
    "    (\"user\", \"{input}\")\n",
    "])\n",
    "\n",
    "chain = prompt | llm \n",
    "result = chain.invoke({\"input\": \"What is life all about?\"})\n",
    "print(result)"
   ]
  },
  {
   "cell_type": "code",
   "execution_count": 15,
   "metadata": {},
   "outputs": [
    {
     "name": "stdout",
     "output_type": "stream",
     "text": [
      "\n",
      "Within-tissue plasticity refers to the ability of cells within a tissue or organ to change their position, shape, and function in response to changes in the local environment. This concept is also known as \"tissue plasticity\" or \"cellular plasticity.\"\n",
      "\n",
      "In contrast to the more well-known concept of neuroplasticity, which refers specifically to the brain's ability to reorganize itself in response to injury or experience, within-tissue plasticity can occur throughout the body and can involve any type of tissue. For example, within the heart, cells can change their position and function in response to changes in blood flow or oxygen supply. Within the liver, cells can change their shape and function in response to changes in nutrient availability or toxin exposure.\n",
      "\n",
      "Within-tissue plasticity is thought to play a key role in many biological processes, including development, tissue repair, and adaptation to environmental challenges. For example, during fetal development, cells within the body are able to change their position and function in response to changes in the maternal environment, such as changes in blood flow or nutrient availability. During tissue repair, cells can change their position and function in response to injury or damage, allowing for the restoration of tissue integrity. And during adaptation to environmental challenges, such as changes in temperature or humidity, cells within the body can change their function in response to these changes in order to maintain homeostasis.\n",
      "\n",
      "There are several mechanisms that contribute to within-tissue plasticity, including:\n",
      "\n",
      "1. Cellular heterogeneity: Different cell types within a tissue can have different abilities to change their position and function in response to environmental challenges.\n",
      "2. Cell-cell communication: Cells within a tissue can communicate with each other through direct cell-cell contact or through the release of signaling molecules, allowing them to coordinate their behavior and respond to environmental challenges.\n",
      "3. Matrix remodeling: The extracellular matrix (ECM) provides structural support to cells within a tissue, but it can also be remodeled in response to changes in the local environment, allowing cells to change their position and function.\n",
      "4. Epigenetic modifications: Changes in epigenetic markers, such as DNA methylation or histone modification, can allow cells within a tissue to change their gene expression profile in response to environmental challenges.\n",
      "5. Stem cell plasticity: Stem cells within a tissue can give rise to multiple lineages of cells, and they can also undergo cell fate changes in response to environmental challenges.\n",
      "\n",
      "Overall, within-tissue plasticity is an important mechanism that allows tissues to adapt to changing environments and maintain homeostasis.\n"
     ]
    }
   ],
   "source": [
    "result = llm.invoke(\"Please explain the concept of within-tissue plasticity to me!\")\n",
    "print(result)\n"
   ]
  },
  {
   "cell_type": "code",
   "execution_count": 16,
   "metadata": {},
   "outputs": [
    {
     "name": "stdout",
     "output_type": "stream",
     "text": [
      "\n",
      "Stemness is a fundamental property of stem cells that refers to their ability to maintain a state of self-renewal and multipotency. In other words, stem cells have the ability to differentiate into multiple cell types, while also being able to self-renew and proliferate. This property makes stem cells unique and essential for the development and maintenance of tissues in the body.\n",
      "\n",
      "Stemness is characterized by several key features:\n",
      "\n",
      "1. Self-renewal: Stem cells can divide and give rise to more stem cells, without differentiating into specific cell types. This allows them to maintain a pool of stem cells that can be used to replace damaged or lost cells in the body.\n",
      "2. Multipotency: Stem cells have the ability to differentiate into multiple cell types, such as nerve cells, muscle cells, and blood cells. This allows them to contribute to the development of a wide range of tissues and organs in the body.\n",
      "3. Pluripotency: In some cases, stem cells can give rise to all cell types in the body, including the placenta and other supporting tissues. This is known as pluripotency.\n",
      "4. Self-organizing ability: Stem cells have the ability to organize themselves into complex tissue structures without the need for external direction. This allows them to form functional tissues and organs in the body.\n",
      "5. Quiescence: Stem cells can enter a state of quiescence, which means they are not dividing or expressing cell surface markers typical of actively dividing cells. This allows them to maintain their stemness and self-renewal potential.\n",
      "6. Epigenetic regulation: Stem cells have epigenetic marks that regulate their gene expression and stemness properties. These marks can be modified by environmental factors, such as diet or exposure to toxins, which can influence the fate of the stem cells.\n",
      "7. Cell-cell communication: Stem cells communicate with each other through a variety of signaling pathways and molecular interactions, which help regulate their behavior and maintain tissue homeostasis.\n",
      "8. Niche interaction: Stem cells interact with their surrounding niche, which includes various cell types and extracellular matrix components, to regulate their behavior and maintenance. The niche provides a scaffold for stem cell self-renewal and differentiation.\n",
      "9. Heterogeneity: Stem cells are not homogeneous, but rather they show cell-to-cell variation in their gene expression profiles, protein production, and functional properties. This heterogeneity can be exploited for therapeutic purposes, such as cancer immunotherapy or tissue engineering.\n",
      "10. Evolutionary conservation: Stem cells have been conserved throughout evolution, suggesting that they play a critical role in the development and maintenance of multicellular organisms.\n",
      "\n",
      "Understanding the concept of stemness is essential for understanding how stem cells work and how they can be used to treat diseases or regenerate damaged tissues.\n"
     ]
    }
   ],
   "source": [
    "result = llm.invoke(\"Please explain the concept of stemness of stem cells to me!\")\n",
    "print(result)\n"
   ]
  },
  {
   "cell_type": "code",
   "execution_count": 3,
   "metadata": {},
   "outputs": [],
   "source": [
    "from langchain_community.document_loaders import WebBaseLoader\n",
    "loader = WebBaseLoader(\"https://pubmed.ncbi.nlm.nih.gov/12160836/\")\n",
    "docs = loader.load()"
   ]
  },
  {
   "cell_type": "code",
   "execution_count": 12,
   "metadata": {},
   "outputs": [
    {
     "name": "stdout",
     "output_type": "stream",
     "text": [
      "1413.94s - pydevd: Sending message related to process being replaced timed-out after 5 seconds\n",
      "Collecting bs4\n",
      "  Downloading bs4-0.0.2-py2.py3-none-any.whl.metadata (411 bytes)\n",
      "Collecting beautifulsoup4 (from bs4)\n",
      "  Using cached beautifulsoup4-4.12.3-py3-none-any.whl.metadata (3.8 kB)\n",
      "Collecting soupsieve>1.2 (from beautifulsoup4->bs4)\n",
      "  Using cached soupsieve-2.5-py3-none-any.whl.metadata (4.7 kB)\n",
      "Downloading bs4-0.0.2-py2.py3-none-any.whl (1.2 kB)\n",
      "Using cached beautifulsoup4-4.12.3-py3-none-any.whl (147 kB)\n",
      "Using cached soupsieve-2.5-py3-none-any.whl (36 kB)\n",
      "Installing collected packages: soupsieve, beautifulsoup4, bs4\n",
      "Successfully installed beautifulsoup4-4.12.3 bs4-0.0.2 soupsieve-2.5\n"
     ]
    }
   ],
   "source": [
    "!pip install bs4"
   ]
  },
  {
   "cell_type": "code",
   "execution_count": 4,
   "metadata": {},
   "outputs": [
    {
     "data": {
      "text/plain": [
       "[Document(page_content='\\n\\n\\n\\n\\n\\n\\n\\n\\n\\n\\n\\n\\n\\n\\n\\nA novel dynamic model of hematopoietic stem cell organization based on the concept of within-tissue plasticity - PubMed\\n\\n\\n\\n\\n\\n\\n\\n\\n\\n\\n\\n\\n\\n\\n\\n\\n\\n\\n\\n\\n\\n\\n\\n\\n\\n\\n\\n\\n\\n\\n\\n\\n\\n\\n\\n\\n\\n\\n\\n\\n\\n\\n\\n\\n\\n\\n\\n\\n\\n\\n\\n\\n\\n\\n\\n\\n\\n\\n\\n\\n\\n\\n        This site needs JavaScript to work properly. Please enable it to take advantage of the complete set of features!\\n      \\n\\n\\n\\n\\n\\n\\n      Clipboard, Search History, and several other advanced features are temporarily unavailable.\\n    \\n\\n\\n\\n\\n\\n    Skip to main page content\\n  \\n\\n\\n\\n\\n\\n\\nAn official website of the United States government\\n\\nHere\\'s how you know\\n\\n\\n\\n\\n\\n\\n\\n\\nThe .gov means it’s official.\\n\\n            Federal government websites often end in .gov or .mil. Before\\n            sharing sensitive information, make sure you’re on a federal\\n            government site.\\n          \\n\\n\\n\\n\\n\\n\\nThe site is secure.\\n\\n            The https:// ensures that you are connecting to the\\n            official website and that any information you provide is encrypted\\n            and transmitted securely.\\n          \\n\\n\\n\\n\\n\\n\\n\\n\\n\\n\\n\\n\\n\\n\\n\\nLog in\\n\\n\\n\\nShow account info\\n\\n\\n\\n\\n\\nClose\\nAccount\\n\\n\\n\\t\\t\\t\\t\\t\\tLogged in as:\\nusername\\n\\n\\n\\nDashboard\\nPublications\\nAccount settings\\nLog out\\n\\n\\n\\n\\n\\n\\n\\n\\nAccess keys\\nNCBI Homepage\\nMyNCBI Homepage\\nMain Content\\nMain Navigation\\n\\n\\n\\n\\n\\n\\n\\n\\n\\n\\n\\n\\n\\n\\n\\n\\n\\n    Search:\\n  \\nSearch\\n\\n\\n\\n\\n\\n\\nAdvanced\\n\\n          Clipboard \\n\\n\\n\\n\\n            User Guide\\n          \\n\\n\\n\\n\\n\\n\\n\\n\\n\\n\\n\\n\\n      Save\\n    \\n      Email\\n    Send to\\n                  Clipboard\\n                My BibliographyCollectionsCitation manager\\n\\n\\n\\nDisplay options\\n\\n\\n\\n      Display options\\n    \\n\\n\\n\\n            Format\\n          \\n\\nAbstract\\nPubMed\\nPMID\\n\\n\\n\\n\\n\\n\\n\\n\\n\\n\\n\\n\\n\\n      Save citation to file\\n    \\n\\n\\n\\n\\n          Format:\\n        \\n\\nSummary (text)\\nPubMed\\nPMID\\nAbstract (text)\\nCSV\\n\\n\\n\\n\\n          Create file\\n        \\n\\n          Cancel\\n        \\n\\n\\n\\n\\n\\n\\n\\n      Email citation\\n    \\n\\n\\n\\n\\n          Subject:\\n        \\n1 selected item: 12160836 - PubMed\\n\\n\\n\\n\\n\\n          To:\\n        \\n\\n\\n\\n\\n          From:\\n        \\n\\n\\n\\n\\n          Format:\\n        \\n\\nSummary\\nSummary (text)\\nAbstract\\nAbstract (text)\\n\\n\\n\\n\\nMeSH and other data\\n\\n\\n\\n\\n\\n\\n\\n          Send email\\n        \\n\\n          Cancel\\n        \\n\\n\\n\\n\\n\\n\\n\\n\\n\\n      Add to Collections\\n    \\n\\n\\n\\n\\n\\n\\nCreate a new collection\\n\\n\\n\\nAdd to an existing collection\\n\\n\\n\\n\\n\\n\\n        Name your collection:\\n      \\n\\n\\n        Name must be less than 100 characters\\n      \\n\\n\\n\\n        Choose a collection:\\n      \\n\\n\\n\\n        Unable to load your collection due to an error\\nPlease try again\\n\\n\\n\\n\\n\\n      Add\\n    \\n\\n      Cancel\\n    \\n\\n\\n\\n\\n\\n\\n\\n      Add to My Bibliography\\n    \\n\\n\\n\\n\\n\\n\\n\\nMy Bibliography\\n\\n\\n\\n\\n\\n        Unable to load your delegates due to an error\\nPlease try again\\n\\n\\n\\n          Add\\n        \\n\\n          Cancel\\n        \\n\\n\\n\\n\\n\\n\\n\\n      Your saved search\\n    \\n\\n\\n\\n\\n          Name of saved search:\\n        \\n\\n\\n\\n\\n          Search terms:\\n        \\n\\n\\n\\nTest search terms\\n\\n\\n\\n          Would you like email updates of new search results?\\n        \\n\\nSaved Search Alert Radio Buttons\\n\\n\\n\\nYes\\n\\n\\n\\nNo\\n\\n\\n\\n\\n\\n\\n\\n            Email:\\n          \\n (change)\\n\\n\\n\\n            Frequency:\\n          \\n\\nMonthly\\nWeekly\\nDaily\\n\\n\\n\\n\\n            Which day?\\n          \\n\\nThe first Sunday\\nThe first Monday\\nThe first Tuesday\\nThe first Wednesday\\nThe first Thursday\\nThe first Friday\\nThe first Saturday\\nThe first day\\nThe first weekday\\n\\n\\n\\n\\n            Which day?\\n          \\n\\nSunday\\nMonday\\nTuesday\\nWednesday\\nThursday\\nFriday\\nSaturday\\n\\n\\n\\n\\n            Report format:\\n          \\n\\nSummary\\nSummary (text)\\nAbstract\\nAbstract (text)\\nPubMed\\n\\n\\n\\n\\n            Send at most:\\n          \\n\\n1 item\\n5 items\\n10 items\\n20 items\\n50 items\\n100 items\\n200 items\\n\\n\\n\\n\\n\\n            Send even when there aren\\'t any new results\\n          \\n\\n\\n\\n            Optional text in email:\\n          \\n\\n\\n\\n\\n\\n          Save\\n        \\n\\n          Cancel\\n        \\n\\n\\n\\n\\n\\n\\n\\n      Create a file for external citation management software\\n    \\n\\n\\n\\n\\n\\n          Create file\\n        \\n\\n          Cancel\\n        \\n\\n\\n\\n\\n\\n\\n\\n      Your RSS Feed\\n    \\n\\n\\n\\n\\n          Name of RSS Feed:\\n        \\n\\n\\n\\n\\n\\n            Number of items displayed:\\n          \\n\\n5\\n10\\n15\\n20\\n50\\n100\\n\\n\\n\\n\\n\\n          Create RSS\\n        \\n\\n          Cancel\\n        \\n\\n\\nRSS Link\\n\\n\\n          Copy\\n        \\n\\n\\n\\n\\n\\n\\n\\n\\n\\n\\n\\n\\n        Full text links\\n      \\n\\n\\n            \\n              Elsevier Science\\n            \\n          \\n\\n\\n\\n\\n        Full text links\\n      \\n\\n\\nActionsCiteCollectionsAdd to CollectionsCreate a new collectionAdd to an existing collection\\n        Name your collection:\\n      \\n        Name must be less than 100 characters\\n      \\n        Choose a collection:\\n      \\n        Unable to load your collection due to an errorPlease try again\\n      Add\\n    \\n      Cancel\\n    Display options\\n      Display options\\n    \\n            Format\\n          AbstractPubMedPMID\\n\\n\\n    Share\\n  \\n\\n\\n\\n\\n\\n\\n\\n\\n\\n\\n\\n\\n\\n            Permalink\\n          \\n\\nCopy\\n\\n\\n\\n\\n\\n\\n\\n\\n\\n      Page navigation\\n    \\n\\n\\n\\n    Title & authors\\n  \\n\\n\\n\\n    Abstract\\n  \\n\\n\\n\\n    Similar articles\\n  \\n\\n\\n\\n    Cited by\\n  \\n\\n\\n\\n    Publication types\\n  \\n\\n\\n\\n    MeSH terms\\n  \\n\\n\\n\\n    LinkOut - more resources\\n  \\n\\n\\n\\n\\nTitle & authors\\nAbstract\\nSimilar articles\\nCited by\\nPublication types\\nMeSH terms\\nLinkOut - more resources\\n\\n\\n\\n\\n\\n\\n\\n\\n\\n\\n\\n\\n      Exp Hematol\\n    Actions\\n              Search in PubMed\\n            \\n              Search in NLM Catalog\\n            \\n              Add to Search\\n            . 2002 Aug;30(8):853-61.\\n\\n\\n        doi: 10.1016/s0301-472x(02)00832-9.\\n      \\n\\n\\n  \\n    \\n    \\n    \\n    \\n      \\n  A novel dynamic model of hematopoietic stem cell organization based on the concept of within-tissue plasticity\\n\\n\\n    \\n  \\n\\n\\n\\n\\nIngo Roeder\\xa0\\n                1\\n              ,\\xa0Markus Loeffler\\n\\n\\n\\n\\n  \\n\\n  \\n    Affiliations\\n  \\n\\n  \\n    \\n\\n        Expand\\n      \\n\\n\\n\\n\\n\\n\\n            Affiliation\\n          \\n\\n1 Institute for Medical Informatics, Statistics and Epidemiology (IMISE), University of Leipzig, Germany.\\n\\n\\n\\n\\n\\n\\n\\n\\n    \\n      PMID:\\n    \\n  \\n12160836\\n\\n\\n\\n\\n\\n    \\n      DOI:\\n    \\n  \\n\\n      10.1016/s0301-472x(02)00832-9\\n    \\n\\n\\n\\n\\n  Item in Clipboard\\n\\n\\n\\n\\n  \\n    \\n    \\n    \\n    \\n      \\n  A novel dynamic model of hematopoietic stem cell organization based on the concept of within-tissue plasticity\\n\\n\\n    \\n  \\n\\n\\n\\nIngo Roeder\\xa0et al.\\n\\n\\n        Exp Hematol.\\n\\n\\n2002 Aug.\\n\\n\\n\\n\\nShow details\\n\\n\\n\\nDisplay options\\n\\n\\n\\n      Display options\\n    \\n\\n\\n\\n            Format\\n          \\n\\nAbstract\\nPubMed\\nPMID\\n\\n\\n\\n\\n\\n\\n\\n\\n\\n\\n      Exp Hematol\\n    Actions\\n              Search in PubMed\\n            \\n              Search in NLM Catalog\\n            \\n              Add to Search\\n            . 2002 Aug;30(8):853-61.\\n\\n\\n        doi: 10.1016/s0301-472x(02)00832-9.\\n      \\n\\n\\n\\n\\n            Authors\\n          \\n\\nIngo Roeder\\xa0\\n                1\\n              ,\\xa0Markus Loeffler\\n\\n\\n\\n\\n            Affiliation\\n          \\n\\n1 Institute for Medical Informatics, Statistics and Epidemiology (IMISE), University of Leipzig, Germany.\\n\\n\\n\\n\\n\\n\\n\\n    \\n      PMID:\\n    \\n  \\n12160836\\n\\n\\n\\n\\n\\n    \\n      DOI:\\n    \\n  \\n\\n      10.1016/s0301-472x(02)00832-9\\n    \\n\\n\\n\\n\\n  Item in Clipboard\\n\\n\\n\\n\\n\\n          Full text links\\n        CiteDisplay options\\n      Display options\\n    \\n            Format\\n          AbstractPubMedPMID\\n\\n\\n        Abstract\\n        \\n      \\n\\n\\n\\n          Objective:\\n        \\n      \\n      At present, no dynamic quantitative models of stem cell organization are available that fulfill all criteria of the prevalent functional definition of hematopoietic stem cells and, at the same time, provide a consistent explanation of cell kinetic and functional stem cell heterogeneity, reversibility of cellular properties, self-organized regeneration after damage, fluctuating activity and competition of stem cell clones, and microenvironment dependency of stem cell quality. To solve this problem, we propose a new, comprehensive model concept.\\n    \\n\\n\\n          Materials and methods:\\n        \\n      \\n      A single cell-based stochastic model is described. It makes the novel concept of within-tissue plasticity operational. Within a range of potential options, individual cells may reversibly change their actual set of properties depending on the influence of the local growth environment. Stochastic switching between the growth environments introduces fluctuations that eventually generate heterogeneity. Extensive model simulations are compared with experimental data.\\n    \\n\\n\\n          Results:\\n        \\n      \\n      Although stemness is not an explicit cellular model property, the system behavior is consistent with the functional definition of stem cells and explains a large set of experimental observations on stem cell function in vivo and in vitro on the level of cell populations and individual cells. Classic results such as the colony-forming unit spleen assay, as well as recent experimental observations on stem cell kinetics, individual clone tracking, and fluctuating clonal contribution, are discussed.\\n    \\n\\n\\n          Conclusions:\\n        \\n      \\n      This concept introduces a fundamentally new perspective on stem cell organization treating stemness not as an explicit cellular property but as the result of a dynamic process of self-organization. The model needs to be extended to incorporate lineage specification and tissue plasticity.\\n    \\n\\n\\n\\nPubMed Disclaimer\\n\\n\\n\\n        Similar articles\\n      \\n\\n\\n\\n\\n      \\n        Tissue stem cells: definition, plasticity, heterogeneity, self-organization and models--a conceptual approach.\\n      \\n    \\n\\nLoeffler M, Roeder I.\\nLoeffler M, et al.\\nCells Tissues Organs. 2002;171(1):8-26. doi: 10.1159/000057688.\\nCells Tissues Organs. 2002.\\nPMID: 12021488\\n\\n\\n\\n\\n\\n\\n      \\n        Lineage specification of hematopoietic stem cells: mathematical modeling and biological implications.\\n      \\n    \\n\\nGlauche I, Cross M, Loeffler M, Roeder I.\\nGlauche I, et al.\\nStem Cells. 2007 Jul;25(7):1791-9. doi: 10.1634/stemcells.2007-0025. Epub 2007 Apr 5.\\nStem Cells. 2007.\\nPMID: 17412891\\n\\n\\n\\n\\n\\n\\n      \\n        Clonal, in vivo behavior of the totipotent hematopoietic stem cell.\\n      \\n    \\n\\nLemischka IR.\\nLemischka IR.\\nSemin Immunol. 1991 Nov;3(6):349-55.\\nSemin Immunol. 1991.\\nPMID: 1686833\\nReview.\\n\\n\\n\\n\\n\\n\\n      \\n        Competitive clonal hematopoiesis in mouse chimeras explained by a stochastic model of stem cell organization.\\n      \\n    \\n\\nRoeder I, Kamminga LM, Braesel K, Dontje B, de Haan G, Loeffler M.\\nRoeder I, et al.\\nBlood. 2005 Jan 15;105(2):609-16. doi: 10.1182/blood-2004-01-0282. Epub 2004 Sep 16.\\nBlood. 2005.\\nPMID: 15374890\\n\\n\\n\\n\\n\\n\\n      \\n        Clonal analysis of hematopoietic stem cell development in vivo.\\n      \\n    \\n\\nKeller G.\\nKeller G.\\nCurr Top Microbiol Immunol. 1992;177:41-57. doi: 10.1007/978-3-642-76912-2_4.\\nCurr Top Microbiol Immunol. 1992.\\nPMID: 1353433\\nReview.\\nNo abstract available.\\n\\n\\n\\n\\n\\n\\n      See all similar articles\\n    \\n\\n\\n\\n\\n        Cited by\\n      \\n\\n\\n\\n\\n      \\n        Scalable inference of cell differentiation networks in gene therapy clonal tracking studies of haematopoiesis.\\n      \\n    \\n\\nDel Core L, Pellin D, Wit EC, Grzegorczyk MA.\\nDel Core L, et al.\\nBioinformatics. 2023 Oct 3;39(10):btad605. doi: 10.1093/bioinformatics/btad605.\\nBioinformatics. 2023.\\nPMID: 37774002\\nFree PMC article.\\n\\n\\n\\n\\n\\n\\n      \\n        HSC Niche Dynamics in Regeneration, Pre-malignancy, and Cancer: Insights From Mathematical Modeling.\\n      \\n    \\n\\nPedersen RK, Andersen M, Skov V, Kjær L, Hasselbalch HC, Ottesen JT, Stiehl T.\\nPedersen RK, et al.\\nStem Cells. 2023 Mar 17;41(3):260-270. doi: 10.1093/stmcls/sxac079.\\nStem Cells. 2023.\\nPMID: 36371719\\nFree PMC article.\\n\\n\\n\\n\\n\\n\\n      \\n        Mathematical modelling identifies conditions for maintaining and escaping feedback control in the intestinal epithelium.\\n      \\n    \\n\\nFischer MM, Herzel H, Blüthgen N.\\nFischer MM, et al.\\nSci Rep. 2022 Apr 2;12(1):5569. doi: 10.1038/s41598-022-09202-z.\\nSci Rep. 2022.\\nPMID: 35368028\\nFree PMC article.\\n\\n\\n\\n\\n\\n\\n      \\n        Multistage feedback-driven compartmental dynamics of hematopoiesis.\\n      \\n    \\n\\nMon Père NV, Lenaerts T, Pacheco JMDS, Dingli D.\\nMon Père NV, et al.\\niScience. 2021 Mar 18;24(4):102326. doi: 10.1016/j.isci.2021.102326. eCollection 2021 Apr 23.\\niScience. 2021.\\nPMID: 33889822\\nFree PMC article.\\n\\n\\n\\n\\n\\n\\n      \\n        Reconciling Flux Experiments for Quantitative Modeling of Normal and Malignant Hematopoietic Stem/Progenitor Dynamics.\\n      \\n    \\n\\nTakahashi M, Barile M, Chapple RH, Tseng YJ, Nakada D, Busch K, Fanti AK, Säwén P, Bryder D, Höfer T, Göttgens B.\\nTakahashi M, et al.\\nStem Cell Reports. 2021 Apr 13;16(4):741-753. doi: 10.1016/j.stemcr.2021.02.020. Epub 2021 Mar 25.\\nStem Cell Reports. 2021.\\nPMID: 33770496\\nFree PMC article.\\n\\n\\n\\n\\n\\n\\n      See all \"Cited by\" articles\\n    \\n\\n\\n\\n\\n        Publication types\\n      \\n\\n      Research Support, Non-U.S. Gov\\'t\\n    Actions\\n              Search in PubMed\\n            \\n                Search in MeSH\\n              \\n              Add to Search\\n            \\n\\n\\n\\n        MeSH terms\\n      \\n\\n      Animals\\n    Actions\\n              Search in PubMed\\n            \\n                Search in MeSH\\n              \\n              Add to Search\\n            \\n      Cats\\n    Actions\\n              Search in PubMed\\n            \\n                Search in MeSH\\n              \\n              Add to Search\\n            \\n      Cell Cycle\\n    Actions\\n              Search in PubMed\\n            \\n                Search in MeSH\\n              \\n              Add to Search\\n            \\n      Cell Differentiation\\n    Actions\\n              Search in PubMed\\n            \\n                Search in MeSH\\n              \\n              Add to Search\\n            \\n      Cell Lineage\\n    Actions\\n              Search in PubMed\\n            \\n                Search in MeSH\\n              \\n              Add to Search\\n            \\n      Chimera\\n    Actions\\n              Search in PubMed\\n            \\n                Search in MeSH\\n              \\n              Add to Search\\n            \\n      Clone Cells / cytology\\n    Actions\\n              Search in PubMed\\n            \\n                Search in MeSH\\n              \\n              Add to Search\\n            \\n      Colony-Forming Units Assay\\n    Actions\\n              Search in PubMed\\n            \\n                Search in MeSH\\n              \\n              Add to Search\\n            \\n      Computer Simulation*\\n    Actions\\n              Search in PubMed\\n            \\n                Search in MeSH\\n              \\n              Add to Search\\n            \\n      Hematopoietic Stem Cells / cytology*\\n    Actions\\n              Search in PubMed\\n            \\n                Search in MeSH\\n              \\n              Add to Search\\n            \\n      Humans\\n    Actions\\n              Search in PubMed\\n            \\n                Search in MeSH\\n              \\n              Add to Search\\n            \\n      Mice\\n    Actions\\n              Search in PubMed\\n            \\n                Search in MeSH\\n              \\n              Add to Search\\n            \\n      Models, Biological*\\n    Actions\\n              Search in PubMed\\n            \\n                Search in MeSH\\n              \\n              Add to Search\\n            \\n      Organ Specificity\\n    Actions\\n              Search in PubMed\\n            \\n                Search in MeSH\\n              \\n              Add to Search\\n            \\n      Stochastic Processes\\n    Actions\\n              Search in PubMed\\n            \\n                Search in MeSH\\n              \\n              Add to Search\\n            \\n\\n\\n\\n      LinkOut - more resources\\n    \\nFull Text Sources\\n                    Elsevier Science\\n                  Other Literature Sources\\n                    The Lens - Patent Citations\\n                  Medical\\n                    MedlinePlus Health Information\\n                  \\n\\n\\n\\n\\nFull text links\\n[x]\\n\\n\\n            \\n              Elsevier Science\\n            \\n          \\n\\n\\n\\n\\n\\n[x]\\nCite\\n\\n\\n\\n\\n      Copy\\n    \\n\\n\\n\\nDownload .nbib\\n.nbib\\n\\n\\n\\nFormat:\\n\\n\\n        AMA\\n      \\n\\n        APA\\n      \\n\\n        MLA\\n      \\n\\n        NLM\\n      \\n\\n\\n\\n\\n\\n\\n\\n\\nSend To\\n\\nClipboard\\nEmail\\nSave\\nMy Bibliography\\nCollections\\nCitation Manager\\n\\n[x]\\n\\n\\n\\n\\n\\n\\nNCBI Literature Resources\\n\\nMeSH\\nPMC\\nBookshelf\\nDisclaimer\\n\\nThe PubMed wordmark and PubMed logo are registered trademarks of the U.S. Department of Health and Human Services (HHS). Unauthorized use of these marks is strictly prohibited.\\n\\n\\n\\n\\n\\nFollow NCBI\\n\\n\\n\\n\\nTwitter\\n\\n\\n\\n\\n\\n\\nFacebook\\n\\n\\n\\n\\nLinkedIn\\n\\n\\n\\n\\n\\n\\n\\nGitHub\\n\\n\\n\\n\\n\\n\\n\\n\\n\\n\\n\\n\\n\\n\\n\\n\\n\\n\\n\\n\\n\\n\\n\\n\\n\\nConnect with NLM\\n\\n\\n\\nTwitter\\n\\n\\n\\n\\n\\n\\n\\n\\n\\n\\n\\n\\n\\n\\nSM-Facebook\\n\\n\\n\\n\\n\\n\\n\\n\\n\\nSM-Youtube\\n\\n\\n\\n\\n\\n\\n\\n\\n\\nNational Library of Medicine\\n8600 Rockville Pike\\n                  Bethesda, MD 20894\\n\\n\\nWeb Policies\\nFOIA\\nHHS Vulnerability Disclosure\\n\\n\\nHelp\\nAccessibility\\nCareers\\n\\n\\n\\n\\n\\n\\n\\nNLM\\n\\n\\nNIH\\n\\n\\nHHS\\n\\n\\nUSA.gov\\n\\n\\n\\n\\n\\n\\n\\n\\n\\n\\n\\n\\n\\n\\n\\n\\n\\n\\n\\n\\n\\n\\n', metadata={'source': 'https://pubmed.ncbi.nlm.nih.gov/12160836/', 'title': 'A novel dynamic model of hematopoietic stem cell organization based on the concept of within-tissue plasticity - PubMed', 'description': 'This concept introduces a fundamentally new perspective on stem cell organization treating stemness not as an explicit cellular property but as the result of a dynamic process of self-organization. The model needs to be extended to incorporate lineage specification and tissue plasticity.', 'language': 'en'})]"
      ]
     },
     "execution_count": 4,
     "metadata": {},
     "output_type": "execute_result"
    }
   ],
   "source": [
    "docs"
   ]
  },
  {
   "cell_type": "code",
   "execution_count": 5,
   "metadata": {},
   "outputs": [],
   "source": [
    "from langchain_community.embeddings import OllamaEmbeddings\n",
    "\n",
    "embeddings = OllamaEmbeddings()"
   ]
  },
  {
   "cell_type": "code",
   "execution_count": 19,
   "metadata": {},
   "outputs": [
    {
     "name": "stdout",
     "output_type": "stream",
     "text": [
      "1720.79s - pydevd: Sending message related to process being replaced timed-out after 5 seconds\n",
      "Collecting faiss-cpu\n",
      "  Downloading faiss_cpu-1.8.0-cp312-cp312-macosx_11_0_arm64.whl.metadata (3.6 kB)\n",
      "Requirement already satisfied: numpy in /Users/seb/miniconda3/envs/szt/lib/python3.12/site-packages (from faiss-cpu) (1.26.4)\n",
      "Downloading faiss_cpu-1.8.0-cp312-cp312-macosx_11_0_arm64.whl (3.1 MB)\n",
      "\u001b[2K   \u001b[90m━━━━━━━━━━━━━━━━━━━━━━━━━━━━━━━━━━━━━━━━\u001b[0m \u001b[32m3.1/3.1 MB\u001b[0m \u001b[31m2.3 MB/s\u001b[0m eta \u001b[36m0:00:00\u001b[0m00:01\u001b[0m00:01\u001b[0m\n",
      "\u001b[?25hInstalling collected packages: faiss-cpu\n",
      "Successfully installed faiss-cpu-1.8.0\n",
      "Note: you may need to restart the kernel to use updated packages.\n"
     ]
    }
   ],
   "source": [
    "!pip install faiss-cpu"
   ]
  },
  {
   "cell_type": "code",
   "execution_count": 6,
   "metadata": {},
   "outputs": [],
   "source": [
    "from langchain_community.vectorstores import FAISS\n",
    "from langchain_text_splitters import RecursiveCharacterTextSplitter\n",
    "\n",
    "\n",
    "text_splitter = RecursiveCharacterTextSplitter()\n",
    "documents = text_splitter.split_documents(docs)\n",
    "vector = FAISS.from_documents(documents, embeddings)"
   ]
  },
  {
   "cell_type": "code",
   "execution_count": null,
   "metadata": {},
   "outputs": [],
   "source": []
  },
  {
   "cell_type": "code",
   "execution_count": 8,
   "metadata": {},
   "outputs": [],
   "source": [
    "from langchain_core.prompts import ChatPromptTemplate\n",
    "\n",
    "from langchain.chains.combine_documents import create_stuff_documents_chain\n",
    "\n",
    "prompt = ChatPromptTemplate.from_template(\"\"\"Answer the following question based only on the provided context:\n",
    "\n",
    "<context>\n",
    "{context}\n",
    "</context>\n",
    "\n",
    "Question: {input}\"\"\")\n",
    "\n",
    "document_chain = create_stuff_documents_chain(llm, prompt)"
   ]
  },
  {
   "cell_type": "code",
   "execution_count": 9,
   "metadata": {},
   "outputs": [
    {
     "name": "stdout",
     "output_type": "stream",
     "text": [
      "\n",
      "Sure, I'd be happy to explain the concept of stemness!\n",
      "\n",
      "Stemness is a term used in cell biology to describe the characteristics of stem cells, which are cells that have the ability to differentiate into multiple cell types. Stem cells are unique because they can self-renew ( divide and produce more stem cells) and also differentiate into specialized cell types, such as blood cells, nerve cells, or muscle cells.\n",
      "\n",
      "Stemness is a complex phenomenon that involves a set of molecular and cellular properties that allow stem cells to maintain their undifferentiated state and to differentiate into different cell types. These properties include:\n",
      "\n",
      "1. Self-renewal: The ability of stem cells to divide and produce more stem cells, without differentiating into a specific cell type.\n",
      "2. Multilineage differentiation: The ability of stem cells to differentiate into multiple cell types, such as blood cells, nerve cells, or muscle cells.\n",
      "3. Self-proliferation: The ability of stem cells to divide and produce more stem cells without undergoing differentiation.\n",
      "4. Undifferentiated state: Stem cells are able to maintain their undifferentiated state, even when they are exposed to signals that would normally induce differentiation.\n",
      "5. Pluripotency: The ability of stem cells to give rise to all cell types in the body.\n",
      "\n",
      "Stemness is regulated by a complex network of molecular and cellular mechanisms, including transcription factors, signaling pathways, and epigenetic modifications. These mechanisms work together to maintain the stem cell state and to regulate the differentiation of stem cells into specific cell types.\n",
      "\n",
      "Stemness is an important concept in the field of stem cell biology because it has implications for our understanding of how tissues are formed and maintained, and how diseases arise. For example, stem cell mutations or altered expression of stemness-related genes can lead to the development of cancer or other diseases.\n",
      "\n",
      "I hope this helps you understand the concept of stemness! Let me know if you have any further questions.\n"
     ]
    }
   ],
   "source": [
    "from langchain_core.documents import Document\n",
    "from langchain.chains import create_retrieval_chain\n",
    "\n",
    "retriever = vector.as_retriever()\n",
    "retrieval_chain = create_retrieval_chain(retriever, document_chain)\n",
    "\n",
    "response = retrieval_chain.invoke({\"input\": \"Please explain the concept of stemness to me!\"})\n",
    "print(response[\"answer\"])\n"
   ]
  },
  {
   "cell_type": "markdown",
   "metadata": {},
   "source": [
    "## Use RAG for getting information about a specific article"
   ]
  },
  {
   "cell_type": "code",
   "execution_count": null,
   "metadata": {},
   "outputs": [],
   "source": [
    "result = llm.invoke(\"What did Lutz Leichsenring tell the German broadcaster DW?\")\n",
    "print(result)\n"
   ]
  },
  {
   "cell_type": "code",
   "execution_count": 18,
   "metadata": {},
   "outputs": [],
   "source": [
    "loader = WebBaseLoader(\"https://www.theguardian.com/world/2024/mar/15/berlins-techno-scene-added-to-unesco-intangible-cultural-heritage-list\")\n",
    "docs = loader.load()\n",
    "documents = text_splitter.split_documents(docs)\n",
    "vector = FAISS.from_documents(documents, embeddings)"
   ]
  },
  {
   "cell_type": "code",
   "execution_count": 19,
   "metadata": {},
   "outputs": [
    {
     "name": "stdout",
     "output_type": "stream",
     "text": [
      "Lutz Leichsenring told the German broadcaster DW that the decision to add Berlin's techno scene to Germany's list of intangible cultural heritage will help ensure that club culture is recognized as a valuable sector worthy of protection and support.\n"
     ]
    }
   ],
   "source": [
    "retriever = vector.as_retriever()\n",
    "retrieval_chain = create_retrieval_chain(retriever, document_chain)\n",
    "\n",
    "response = retrieval_chain.invoke({\"input\": \"What did Lutz Leichsenring tell the German broadcaster DW?\"})\n",
    "print(response[\"answer\"])\n"
   ]
  },
  {
   "cell_type": "code",
   "execution_count": null,
   "metadata": {},
   "outputs": [],
   "source": []
  }
 ],
 "metadata": {
  "kernelspec": {
   "display_name": "Python 3",
   "language": "python",
   "name": "python3"
  },
  "language_info": {
   "codemirror_mode": {
    "name": "ipython",
    "version": 3
   },
   "file_extension": ".py",
   "mimetype": "text/x-python",
   "name": "python",
   "nbconvert_exporter": "python",
   "pygments_lexer": "ipython3",
   "version": "3.12.2"
  }
 },
 "nbformat": 4,
 "nbformat_minor": 2
}
