{
 "cells": [
  {
   "cell_type": "markdown",
   "metadata": {},
   "source": [
    "## Stammzelltisch 9.4.2024 - Large language model tutorial"
   ]
  },
  {
   "cell_type": "markdown",
   "metadata": {},
   "source": [
    "## Background\n",
    "* There are a couple of different large language models available\n",
    "    * OpenAI models\n",
    "        * GPT-3.5\n",
    "        * GPT-4.0\n",
    "    * LLama2\n",
    "        * 7, 13, 70 billion parameters\n",
    "        * Here 7 billion parameters, 4-bits --> can be run on laptop with 8 GBs\n",
    "    * Gemma\n",
    "    * ..."
   ]
  },
  {
   "cell_type": "markdown",
   "metadata": {},
   "source": [
    "### Initialize large language model"
   ]
  },
  {
   "cell_type": "code",
   "execution_count": 3,
   "metadata": {},
   "outputs": [],
   "source": [
    "from langchain_community.llms import Ollama\n",
    "llm = Ollama(model=\"llama2\")\n",
    "# llm = Ollama(model=\"gemma:2b\")"
   ]
  },
  {
   "cell_type": "markdown",
   "metadata": {},
   "source": [
    "### Query large language model"
   ]
  },
  {
   "cell_type": "code",
   "execution_count": 8,
   "metadata": {},
   "outputs": [
    {
     "name": "stdout",
     "output_type": "stream",
     "text": [
      "\n",
      "Yay, a vegan Tiramisu! This classic Italian dessert is now easily accessible to you with these simple and delicious vegan ingredients. Here's a recipe that will satisfy your cravings:\n",
      "\n",
      "Ingredients:\n",
      "\n",
      "For the ladyfingers:\n",
      "\n",
      "* 12-16 ladyfingers (you can use any type of cookie or crackers, but ladyfingers are traditional)\n",
      "* 3/4 cup granulated sugar\n",
      "* 1/4 cup vegan coffee liqueur (such as Kahlúa or Tia Maria)\n",
      "* 1/4 cup non-dairy milk (such as almond, soy, or coconut milk)\n",
      "\n",
      "For the filling:\n",
      "\n",
      "* 1/2 cup cashew cream (see recipe below)\n",
      "* 1/4 cup vegan chocolate chips (such as Enjoy Life or DaVinci)\n",
      "* 1/4 cup granulated sugar\n",
      "* 1 tsp vanilla extract\n",
      "\n",
      "Cashew Cream:\n",
      "\n",
      "* 1/2 cup raw cashews\n",
      "* 1/4 cup non-dairy milk (such as almond, soy, or coconut milk)\n",
      "* 1 tsp lemon juice\n",
      "* 1/4 tsp salt\n",
      "\n",
      "Instructions:\n",
      "\n",
      "1. In a small bowl, mix together the sugar and coffee liqueur for the ladyfingers.\n",
      "2. Dip each ladyfinger into the sugar and coffee mixture, coating both sides evenly. Place on a serving plate or tray.\n",
      "3. In a separate bowl, combine the non-dairy milk, chocolate chips, granulated sugar, vanilla extract, and salt for the filling. Stir until smooth.\n",
      "4. Place 1/2 cup of the cashew cream on top of each ladyfinger.\n",
      "5. Repeat the layers, starting with the ladyfingers, then the filling, and finish with the remaining cashew cream.\n",
      "6. Cover the tiramisu and refrigerate for at least 3 hours or overnight.\n",
      "7. Before serving, garnish with cocoa powder or chopped nuts, if desired.\n",
      "\n",
      "Tips:\n",
      "\n",
      "* Use a high-quality vegan coffee liqueur to get the best flavor.\n",
      "* If you want a more intense chocolate flavor, use more chocolate chips or add some melted vegan chocolate to the filling.\n",
      "* Experiment with different types of non-dairy milk and chocolate chips to find your favorite combination.\n",
      "* To make this recipe gluten-free, use gluten-free ladyfingers and a gluten-free non-dairy milk.\n",
      "\n",
      "Enjoy your delicious vegan Tiramisu!\n"
     ]
    }
   ],
   "source": [
    "print(llm.invoke(\"Please show me a recipe for a vegan Tiramisu!\"))"
   ]
  },
  {
   "cell_type": "markdown",
   "metadata": {},
   "source": [
    "### Modify the behavior by modifying the prompt"
   ]
  },
  {
   "cell_type": "code",
   "execution_count": null,
   "metadata": {},
   "outputs": [],
   "source": [
    "from langchain_core.prompts import ChatPromptTemplate\n",
    "\n",
    "prompt = ChatPromptTemplate.from_messages([\n",
    "    (\"system\", \"You talk like an Australian guy.\"),\n",
    "    (\"user\", \"{input}\")\n",
    "])\n",
    "\n",
    "chain = prompt | llm \n",
    "print(chain.invoke({\"input\": \"What is life all about?\"}))"
   ]
  },
  {
   "cell_type": "markdown",
   "metadata": {},
   "source": [
    "### Test what the llm knows about stem cell biology"
   ]
  },
  {
   "cell_type": "code",
   "execution_count": 9,
   "metadata": {},
   "outputs": [
    {
     "name": "stdout",
     "output_type": "stream",
     "text": [
      "\n",
      "Stemness is a term used to describe the properties and behaviors of stem cells, which are a type of cell that has the ability to differentiate into different cell types in the body. Stem cells are found in various tissues throughout the body, including bone marrow, blood, and the placenta during fetal development.\n",
      "\n",
      "The concept of stemness refers to the unique properties of stem cells that allow them to self-renew ( divide and produce more stem cells) and differentiate into different cell types. These properties include:\n",
      "\n",
      "1. Self-renewal: Stem cells have the ability to divide and produce more stem cells, allowing them to maintain their population in the body.\n",
      "2. Multipotency: Stem cells can differentiate into multiple cell types, such as blood cells, nerve cells, and muscle cells.\n",
      "3. Plasticity: Stem cells can change their fate and differentiate into different cell types depending on the environmental cues they receive.\n",
      "4. Self-repair: Stem cells have the ability to repair damaged tissues by producing new cells to replace damaged or missing ones.\n",
      "5. Long-term self-renewal: Stem cells can maintain their stemness over a long period of time, allowing them to continue to provide a source of cells for tissue maintenance and repair.\n",
      "\n",
      "Stemness is regulated by a complex interplay of intrinsic and extrinsic factors, including growth factors, hormones, and cell-cell interactions. The balance between these factors can influence the fate decision of stem cells, leading to either self-renewal or differentiation.\n",
      "\n",
      "Research on stemness has led to a greater understanding of the mechanisms that control stem cell function and has implications for the development of new therapies for diseases such as cancer, where stem cells are involved in tumor growth and progression. Understanding the concept of stemness can also provide insights into the development of regenerative medicine, which aims to repair or replace damaged tissues using stem cells.\n",
      "\n",
      "In summary, stemness is a critical concept in understanding the biology of stem cells and their potential for use in regenerative medicine. It encompasses several key properties that define stem cells and their ability to maintain tissue homeostasis and respond to injury or disease.\n"
     ]
    }
   ],
   "source": [
    "print(llm.invoke(\"Please explain the concept of stemness of stem cells to me!\"))"
   ]
  },
  {
   "cell_type": "code",
   "execution_count": 10,
   "metadata": {},
   "outputs": [
    {
     "name": "stdout",
     "output_type": "stream",
     "text": [
      "\n",
      "Within-tissue plasticity refers to the ability of cells within a tissue or organ to change their position, shape, and function in response to changes in the local microenvironment. This concept is important in understanding how tissues adapt to injury or disease, and how they regenerate after an insult.\n",
      "\n",
      "In a healthy tissue, cells are arranged in a specific spatial arrangement, with each cell type performing a unique set of functions to maintain tissue homeostasis. However, when a tissue is injured or diseased, the normal structure and function of the tissue can be disrupted. Within-tissue plasticity allows cells within the tissue to adapt to these changes by rearranging themselves and altering their gene expression profiles.\n",
      "\n",
      "For example, in response to injury, fibroblasts in a tissue may undergo epithelial-to-mesenchymal transition (EMT), a process where they lose their epithelial characteristics and acquire mesenchymal properties, such as increased mobility and the ability to produce extracellular matrix components. This allows them to contribute to tissue repair by producing ECM elements and creating a scaffold for cell migration and proliferation.\n",
      "\n",
      "Similarly, immune cells within a tissue can undergo changes in response to injury or infection, such as the activation of immune cells or the recruitment of immune cells from other parts of the body. These changes allow the immune system to mount an effective response to the insult and promote tissue healing.\n",
      "\n",
      "Within-tissue plasticity is a critical component of tissue homeostasis and regeneration, as it allows tissues to adapt and respond to changing conditions in a dynamic manner. Understanding the mechanisms of within-tissue plasticity can provide insights into how tissues repair themselves after injury or disease, and may lead to new therapeutic strategies for promoting tissue regeneration and repair.\n",
      "\n",
      "In summary, within-tissue plasticity refers to the ability of cells within a tissue to change their position, shape, and function in response to changes in the local microenvironment. This concept is important in understanding how tissues adapt to injury or disease and how they regenerate after an insult.\n"
     ]
    }
   ],
   "source": [
    "print(llm.invoke(\"Please explain the concept of within-tissue plasticity to me!\"))"
   ]
  },
  {
   "cell_type": "markdown",
   "metadata": {},
   "source": [
    "## Use retrieval augmented generation"
   ]
  },
  {
   "cell_type": "code",
   "execution_count": 11,
   "metadata": {},
   "outputs": [],
   "source": [
    "from langchain_community.document_loaders import WebBaseLoader\n",
    "loader = WebBaseLoader(\"https://pubmed.ncbi.nlm.nih.gov/12160836/\")\n",
    "docs = loader.load()"
   ]
  },
  {
   "cell_type": "code",
   "execution_count": 12,
   "metadata": {},
   "outputs": [],
   "source": [
    "from langchain_community.embeddings import OllamaEmbeddings\n",
    "embeddings = OllamaEmbeddings()"
   ]
  },
  {
   "cell_type": "code",
   "execution_count": 13,
   "metadata": {},
   "outputs": [],
   "source": [
    "from langchain_community.vectorstores import FAISS\n",
    "from langchain_text_splitters import RecursiveCharacterTextSplitter\n",
    "\n",
    "\n",
    "text_splitter = RecursiveCharacterTextSplitter()\n",
    "documents = text_splitter.split_documents(docs)\n",
    "vector = FAISS.from_documents(documents, embeddings)"
   ]
  },
  {
   "cell_type": "code",
   "execution_count": 14,
   "metadata": {},
   "outputs": [],
   "source": [
    "from langchain_core.prompts import ChatPromptTemplate\n",
    "from langchain.chains.combine_documents import create_stuff_documents_chain\n",
    "\n",
    "prompt = ChatPromptTemplate.from_template(\"\"\"Answer the following question based only on the provided context:\n",
    "\n",
    "<context>\n",
    "{context}\n",
    "</context>\n",
    "\n",
    "Question: {input}\"\"\")\n",
    "\n",
    "document_chain = create_stuff_documents_chain(llm, prompt)"
   ]
  },
  {
   "cell_type": "code",
   "execution_count": 15,
   "metadata": {},
   "outputs": [
    {
     "name": "stdout",
     "output_type": "stream",
     "text": [
      "\n",
      "Stemness is a term used in cell biology to describe the state of a cell that has the ability to differentiate into multiple cell types. In other words, stem cells are cells that have the potential to become any type of cell in the body. This property is due to the presence of specific genetic and epigenetic markers that allow stem cells to maintain their undifferentiated state and self-renew while also giving rise to differentiated cells.\n",
      "\n",
      "Stemness is a complex phenomenon that involves a balance between different molecular pathways and cellular processes, including cell adhesion, signaling, and transcriptional regulation. Stem cells are able to maintain their stemness by regulating the expression of genes involved in self-renewal and differentiation, as well as by modulating their microenvironment through secreted factors and cell-cell interactions.\n",
      "\n",
      "There are two main types of stem cells: embryonic stem cells (ESCs) and adult stem cells (ADSCs). ESCs are derived from embryos and have the ability to differentiate into any cell type in the body, while ADSCs are found in adult tissues and are more limited in their differentiation potential. Both types of stem cells play important roles in maintaining tissue homeostasis and repairing damaged tissues.\n",
      "\n",
      "Stemness is a dynamic state that can be influenced by various factors, including genetics, epigenetics, and environmental cues. Dysregulation of stemness can lead to various diseases, such as cancer, where stem cells are unable to properly regulate their self-renewal and differentiation potential. Understanding the mechanisms of stemness is crucial for developing new therapeutic strategies for a wide range of diseases.\n",
      "\n",
      "Some key features of stemness include:\n",
      "\n",
      "1. Self-renewal: Stem cells have the ability to divide and give rise to more stem cells, maintaining their population size.\n",
      "2. Differentiation: Stem cells can differentiate into multiple cell types, such as blood cells, nerve cells, or muscle cells.\n",
      "3. Pluripotency: ESCs have the ability to differentiate into any cell type in the body, while ADSCs are more limited in their differentiation potential.\n",
      "4. Stem cell niche: The microenvironment surrounding stem cells plays a crucial role in regulating their behavior and maintenance of stemness.\n",
      "5. Epigenetic regulation: Stem cells have dynamic epigenetic profiles that can be modified by various factors, including environmental cues and cell-cell interactions.\n",
      "6. Cellular heterogeneity: Stem cells are not homogeneous and can be subdivided into different subpopulations based on their gene expression profiles.\n",
      "7. Developmental stage: Stemness is a dynamic state that changes during development and tissue repair.\n",
      "8. Lineage commitment: Stem cells undergo lineage commitment, which is the process of committing to a specific cell fate.\n",
      "9. Cellular reprogramming: Stem cells can be reprogrammed into other cell types through various methods, such as cell fusion or transcription factor expression.\n",
      "10. Tissue repair: Stem cells play a crucial role in tissue repair and regeneration after injury or disease.\n",
      "\n",
      "In summary, stemness is a complex and dynamic state that allows stem cells to maintain their undifferentiated status while also giving rise to differentiated cells. Understanding the mechanisms of stemness is crucial for developing new therapeutic strategies for various diseases.\n"
     ]
    }
   ],
   "source": [
    "from langchain_core.documents import Document\n",
    "from langchain.chains import create_retrieval_chain\n",
    "\n",
    "retriever = vector.as_retriever()\n",
    "retrieval_chain = create_retrieval_chain(retriever, document_chain)\n",
    "\n",
    "response = retrieval_chain.invoke({\"input\": \"Please explain the concept of stemness to me!\"})\n",
    "print(response[\"answer\"])\n"
   ]
  },
  {
   "cell_type": "markdown",
   "metadata": {},
   "source": [
    "## Use RAG for getting information about a specific article"
   ]
  },
  {
   "cell_type": "code",
   "execution_count": null,
   "metadata": {},
   "outputs": [],
   "source": [
    "result = llm.invoke(\"What did Lutz Leichsenring tell the German broadcaster DW?\")\n",
    "print(result)\n"
   ]
  },
  {
   "cell_type": "code",
   "execution_count": null,
   "metadata": {},
   "outputs": [],
   "source": [
    "loader = WebBaseLoader(\"https://www.theguardian.com/world/2024/mar/15/berlins-techno-scene-added-to-unesco-intangible-cultural-heritage-list\")\n",
    "docs = loader.load()\n",
    "documents = text_splitter.split_documents(docs)\n",
    "vector = FAISS.from_documents(documents, embeddings)"
   ]
  },
  {
   "cell_type": "code",
   "execution_count": null,
   "metadata": {},
   "outputs": [],
   "source": [
    "retriever = vector.as_retriever()\n",
    "retrieval_chain = create_retrieval_chain(retriever, document_chain)\n",
    "\n",
    "response = retrieval_chain.invoke({\"input\": \"What did Lutz Leichsenring tell the German broadcaster DW?\"})\n",
    "print(response[\"answer\"])\n"
   ]
  }
 ],
 "metadata": {
  "kernelspec": {
   "display_name": "Python 3 (ipykernel)",
   "language": "python",
   "name": "python3"
  },
  "language_info": {
   "codemirror_mode": {
    "name": "ipython",
    "version": 3
   },
   "file_extension": ".py",
   "mimetype": "text/x-python",
   "name": "python",
   "nbconvert_exporter": "python",
   "pygments_lexer": "ipython3",
   "version": "3.12.2"
  }
 },
 "nbformat": 4,
 "nbformat_minor": 4
}
