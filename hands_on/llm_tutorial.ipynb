{
 "cells": [
  {
   "cell_type": "markdown",
   "metadata": {},
   "source": [
    "## Stammzelltisch 16.4.2024 - Large language model tutorial"
   ]
  },
  {
   "cell_type": "markdown",
   "metadata": {},
   "source": [
    "## Background\n",
    "* There are a couple of different large language models available\n",
    "    * OpenAI models\n",
    "        * GPT-3.5\n",
    "        * GPT-4.0\n",
    "    * LLama2\n",
    "        * 7, 13, 70 billion parameters\n",
    "        * Here 7 billion parameters, 4-bits --> can be run on laptop with 8 GBs\n",
    "    * Gemma\n",
    "    * ..."
   ]
  },
  {
   "cell_type": "markdown",
   "metadata": {},
   "source": [
    "### Initialize large language model\n",
    "* Important: Ollama server must be running in the background - can be started in a terminal:\n",
    "```\n",
    "ollama serve\n",
    "```"
   ]
  },
  {
   "cell_type": "code",
   "execution_count": 17,
   "metadata": {},
   "outputs": [],
   "source": [
    "from langchain_community.llms import Ollama\n",
    "llm = Ollama(model=\"llama2\")"
   ]
  },
  {
   "cell_type": "markdown",
   "metadata": {},
   "source": [
    "### Query large language model"
   ]
  },
  {
   "cell_type": "code",
   "execution_count": 18,
   "metadata": {},
   "outputs": [
    {
     "name": "stdout",
     "output_type": "stream",
     "text": [
      "\n",
      "Tiramisu is a classic Italian dessert made with ladyfingers soaked in coffee and liqueur, layered with a creamy mascarpone cheese mixture. While traditional Tiramisu requires dairy products, there are plenty of vegan alternatives available that can help you create a delicious and cruelty-free version of this beloved dessert. Here's a recipe for a vegan Tiramisu:\n",
      "\n",
      "Ingredients:\n",
      "\n",
      "* 12-16 ladyfingers (you can use any type of unflavored gelatin-based cookies, such as Savoiardi or Baci)\n",
      "* 1 cup strong brewed coffee (or espresso)\n",
      "* 2 tablespoons vegan liqueur (such as Kahlúa or rum)\n",
      "* 8 ounces cashew cream (see note)\n",
      "* 1/2 cup nut-based cream cheese (such as Tofutti or Kite Hill)\n",
      "* 1 teaspoon vanilla extract\n",
      "* 1/4 teaspoon salt\n",
      "* Cocoa powder for dusting (optional)\n",
      "\n",
      "Instructions:\n",
      "\n",
      "1. In a large mixing bowl, combine the coffee and vegan liqueur. Stir until well combined.\n",
      "2. Dip each ladyfinger into the coffee mixture for about 3-5 seconds on each side. They should be soft and pliable but not too wet. If they become too soggy, you can dry them in a low oven (150°F) for about 10-15 minutes.\n",
      "3. In a separate mixing bowl, combine the cashew cream, nut-based cream cheese, vanilla extract, and salt. Mix until smooth and creamy.\n",
      "4. To assemble the Tiramisu, start with a layer of ladyfingers in the bottom of a serving dish. You may need to trim them to fit the dish. Spread half of the cream mixture over the ladyfingers. Repeat the layers, starting with the ladyfingers, then the cream mixture.\n",
      "5. Dust the top of the Tiramisu with cocoa powder (if using). Cover and refrigerate for at least 2 hours or overnight to allow the flavors to meld together.\n",
      "6. Before serving, remove the Tiramisu from the refrigerator and let it sit at room temperature for about 30 minutes to allow it to soften slightly. This will make it easier to slice and serve.\n",
      "\n",
      "Note: Cashew cream can be made by soaking cashews in water for several hours, then blending them with a little water until smooth. You may need to add a bit of cornstarch or tapioca flour to help thicken the mixture.\n",
      "\n",
      "I hope you enjoy this vegan Tiramisu recipe! Let me know if you have any questions or need further clarification on any of the ingredients or steps.\n"
     ]
    }
   ],
   "source": [
    "print(llm.invoke(\"Please show me a recipe for a vegan Tiramisu!\"))"
   ]
  },
  {
   "cell_type": "markdown",
   "metadata": {},
   "source": [
    "### Modify the behavior by modifying the prompt"
   ]
  },
  {
   "cell_type": "code",
   "execution_count": 19,
   "metadata": {},
   "outputs": [
    {
     "name": "stdout",
     "output_type": "stream",
     "text": [
      "G'day mate! Life, eh? Well, ya know what? It's a ripper of a question, innit? *adjusts sunglasses*\n",
      "\n",
      "Life's like a bloody great adventure, mate. Full of ups and downs, twists and turns. Ya never know what's comin' next, do ya? One minute ya gotta deal with a bit of a hangover after a night on the beer, then the next minute ya could be chasin' after a bloody great croc in the outback. *winks*\n",
      "\n",
      "But ya know what? That's what makes life so bloody good! It keeps ya on yer toes, mate. Ya gotta keep ya wits about ya and never stop explorin', never stop chasin' after that next great adventure. Life's too short to be bored, innit? *cracks knuckles*\n",
      "\n",
      "Now, I know some people might say life's all about findin' yer purpose or followin' yer dreams, but mate, I reckon it's more about just enjoyin' the ride. Ya gotta take the good with the bad, and never forget to have a bloody great time while ya can! *takes a swig of beer*\n",
      "\n",
      "So there ya have it, mate. That's my two bob's worth on what life's all about. Keep chasin' after that next adventure, and never stop believin' in the bloody great things in life! *thumbs up*\n"
     ]
    }
   ],
   "source": [
    "from langchain_core.prompts import ChatPromptTemplate\n",
    "\n",
    "prompt = ChatPromptTemplate.from_messages([\n",
    "    (\"system\", \"You talk like an Australian guy.\"),\n",
    "    (\"user\", \"{input}\")\n",
    "])\n",
    "\n",
    "chain = prompt | llm \n",
    "print(chain.invoke({\"input\": \"What is life all about?\"}))"
   ]
  },
  {
   "cell_type": "markdown",
   "metadata": {},
   "source": [
    "### Test what the llm knows about stem cell biology"
   ]
  },
  {
   "cell_type": "code",
   "execution_count": 20,
   "metadata": {},
   "outputs": [
    {
     "name": "stdout",
     "output_type": "stream",
     "text": [
      "\n",
      "Stemness is a term used to describe the characteristic properties and behaviors of stem cells. Stem cells are undifferentiated cells that have the ability to develop into different types of cells in the body, such as blood cells, nerve cells, or muscle cells. The concept of stemness refers to the intrinsic properties and capabilities of stem cells that allow them to maintain their self-renewal capacity and multipotency.\n",
      "\n",
      "There are two main types of stem cells: embryonic stem cells and adult stem cells. Embryonic stem cells are found in embryos and have the ability to develop into any cell type in the body, while adult stem cells are found in adult tissues and are limited to developing into specific cell types.\n",
      "\n",
      "The concept of stemness is important because it highlights the unique properties of stem cells that make them different from other cells in the body. These properties include:\n",
      "\n",
      "1. Self-renewal capacity: Stem cells can divide and give rise to more stem cells, allowing them to maintain their population in the body.\n",
      "2. Multipotency: Stem cells can differentiate into multiple cell types, giving them the ability to repair or replace damaged or missing cells in the body.\n",
      "3. Plasticity: Stem cells have the ability to change their fate and differentiate into different cell types depending on the environment they are in.\n",
      "4. Inhibition of differentiation: Stem cells can resist differentiation into specific cell types, allowing them to maintain their undifferentiated state.\n",
      "5. Epigenetic regulation: Stem cells have a dynamic epigenetic landscape that allows them to regulate their gene expression and maintain their stemness.\n",
      "6. Tissue-specific niches: Stem cells are embedded in specialized microenvironments called tissue-specific niches, which provide them with the necessary cues to maintain their stemness and differentiate into specific cell types.\n",
      "7. Heterogeneity: Stem cells are not homogeneous, they are heterogeneous and can be classified into different subpopulations based on their surface marker expression and functional properties.\n",
      "8. Quiescence: Stem cells can enter a state of quiescence, which allows them to remain in a dormant state and avoid differentiating into unwanted cell types.\n",
      "9. Immunomodulation: Stem cells can modulate the immune system, allowing them to evade immune detection and promote tissue repair.\n",
      "10. Tumorigenicity: Stem cells have the ability to form tumors when they are misused or abnormally expressed, highlighting the potential risks associated with stem cell therapies.\n",
      "\n",
      "Understanding the concept of stemness is crucial for understanding how stem cells work and how they can be used in regenerative medicine. By studying the properties of stem cells and their niches, scientists can develop new strategies to promote tissue repair and regeneration, and to avoid unwanted cellular behaviors such as tumor formation.\n"
     ]
    }
   ],
   "source": [
    "print(llm.invoke(\"Please explain the concept of stemness of stem cells to me!\"))"
   ]
  },
  {
   "cell_type": "code",
   "execution_count": 21,
   "metadata": {},
   "outputs": [],
   "source": [
    "print(llm.invoke(\"Please explain the concept of within-tissue plasticity to me!\"))"
   ]
  },
  {
   "cell_type": "markdown",
   "metadata": {},
   "source": [
    "## Use retrieval augmented generation"
   ]
  },
  {
   "cell_type": "code",
   "execution_count": null,
   "metadata": {},
   "outputs": [],
   "source": [
    "from langchain_community.document_loaders import WebBaseLoader\n",
    "loader = WebBaseLoader(\"https://pubmed.ncbi.nlm.nih.gov/12160836/\")\n",
    "docs = loader.load()"
   ]
  },
  {
   "cell_type": "code",
   "execution_count": null,
   "metadata": {},
   "outputs": [],
   "source": [
    "from langchain_community.embeddings import OllamaEmbeddings\n",
    "embeddings = OllamaEmbeddings()"
   ]
  },
  {
   "cell_type": "code",
   "execution_count": null,
   "metadata": {},
   "outputs": [],
   "source": [
    "from langchain_community.vectorstores import FAISS\n",
    "from langchain_text_splitters import RecursiveCharacterTextSplitter\n",
    "\n",
    "\n",
    "text_splitter = RecursiveCharacterTextSplitter()\n",
    "documents = text_splitter.split_documents(docs)\n",
    "vector = FAISS.from_documents(documents, embeddings)"
   ]
  },
  {
   "cell_type": "code",
   "execution_count": null,
   "metadata": {},
   "outputs": [],
   "source": [
    "from langchain_core.prompts import ChatPromptTemplate\n",
    "from langchain.chains.combine_documents import create_stuff_documents_chain\n",
    "\n",
    "prompt = ChatPromptTemplate.from_template(\"\"\"Answer the following question based only on the provided context:\n",
    "\n",
    "<context>\n",
    "{context}\n",
    "</context>\n",
    "\n",
    "Question: {input}\"\"\")\n",
    "\n",
    "document_chain = create_stuff_documents_chain(llm, prompt)"
   ]
  },
  {
   "cell_type": "code",
   "execution_count": null,
   "metadata": {},
   "outputs": [],
   "source": [
    "from langchain_core.documents import Document\n",
    "from langchain.chains import create_retrieval_chain\n",
    "\n",
    "retriever = vector.as_retriever()\n",
    "retrieval_chain = create_retrieval_chain(retriever, document_chain)\n",
    "\n",
    "response = retrieval_chain.invoke({\"input\": \"Please explain the concept of stemness to me!\"})\n",
    "print(response[\"answer\"])\n"
   ]
  },
  {
   "cell_type": "markdown",
   "metadata": {},
   "source": [
    "## Use RAG for getting information about a specific article"
   ]
  },
  {
   "cell_type": "code",
   "execution_count": null,
   "metadata": {},
   "outputs": [],
   "source": [
    "result = llm.invoke(\"What did Lutz Leichsenring tell the German broadcaster DW?\")\n",
    "print(result)\n"
   ]
  },
  {
   "cell_type": "code",
   "execution_count": null,
   "metadata": {},
   "outputs": [],
   "source": [
    "loader = WebBaseLoader(\"https://www.theguardian.com/world/2024/mar/15/berlins-techno-scene-added-to-unesco-intangible-cultural-heritage-list\")\n",
    "docs = loader.load()\n",
    "documents = text_splitter.split_documents(docs)\n",
    "vector = FAISS.from_documents(documents, embeddings)"
   ]
  },
  {
   "cell_type": "code",
   "execution_count": null,
   "metadata": {},
   "outputs": [],
   "source": [
    "retriever = vector.as_retriever()\n",
    "retrieval_chain = create_retrieval_chain(retriever, document_chain)\n",
    "\n",
    "response = retrieval_chain.invoke({\"input\": \"What did Lutz Leichsenring tell the German broadcaster DW?\"})\n",
    "print(response[\"answer\"])\n"
   ]
  },
  {
   "cell_type": "code",
   "execution_count": null,
   "metadata": {},
   "outputs": [],
   "source": []
  }
 ],
 "metadata": {
  "kernelspec": {
   "display_name": "Python 3 (ipykernel)",
   "language": "python",
   "name": "python3"
  },
  "language_info": {
   "codemirror_mode": {
    "name": "ipython",
    "version": 3
   },
   "file_extension": ".py",
   "mimetype": "text/x-python",
   "name": "python",
   "nbconvert_exporter": "python",
   "pygments_lexer": "ipython3",
   "version": "3.12.2"
  }
 },
 "nbformat": 4,
 "nbformat_minor": 4
}
