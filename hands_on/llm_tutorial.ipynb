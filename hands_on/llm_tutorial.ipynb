{
 "cells": [
  {
   "cell_type": "markdown",
   "metadata": {},
   "source": [
    "## Stammzelltisch 9.4.2024 - Large language model tutorial"
   ]
  },
  {
   "cell_type": "markdown",
   "metadata": {},
   "source": [
    "## Background\n",
    "* There are a couple of different large language models available\n",
    "    * OpenAI models\n",
    "        * GPT-3.5\n",
    "        * GPT-4.0\n",
    "    * LLama2\n",
    "        * 7, 13, 70 billion parameters\n",
    "        * Here 7 billion parameters, 4-bits --> can be run on laptop with 8 GBs\n",
    "    * Gemma\n",
    "    * ..."
   ]
  },
  {
   "cell_type": "markdown",
   "metadata": {},
   "source": [
    "### Initialize large language model"
   ]
  },
  {
   "cell_type": "code",
   "execution_count": 9,
   "metadata": {},
   "outputs": [],
   "source": [
    "from langchain_community.llms import Ollama\n",
    "llm = Ollama(model=\"llama2\")"
   ]
  },
  {
   "cell_type": "markdown",
   "metadata": {},
   "source": [
    "### Query large language model"
   ]
  },
  {
   "cell_type": "code",
   "execution_count": 10,
   "metadata": {},
   "outputs": [
    {
     "name": "stdout",
     "output_type": "stream",
     "text": [
      "\n",
      "Vegan Tiramisu Recipe\n",
      "\n",
      "Tiramisu is a classic Italian dessert made with ladyfingers soaked in coffee and liqueur, layered with a creamy mixture of eggs, sugar, and mascarpone cheese. However, for vegans, this traditional recipe can be a challenge as it contains animal products like eggs, dairy, and gelatin. But don't worry, I've got you covered! Here's a vegan Tiramisu recipe that's just as delicious and satisfying as the original:\n",
      "\n",
      "Ingredients:\n",
      "\n",
      "* 12-16 ladyfingers (you can use any type of cookie or biscuit)\n",
      "* 1 cup of strong coffee (or espresso)\n",
      "* 1/4 cup of vegan mascarpone cheese (such as tofu-based or soy-based)\n",
      "* 1/4 cup of granulated sugar\n",
      "* 2 tablespoons of unsweetened cocoa powder\n",
      "* 1 teaspoon of vanilla extract\n",
      "* 1/4 teaspoon of salt\n",
      "* 1/2 cup of non-dairy milk (such as almond, soy, or coconut milk)\n",
      "* 1/4 cup of cornstarch\n",
      "\n",
      "Instructions:\n",
      "\n",
      "1. In a large mixing bowl, combine the coffee and sugar. Stir until the sugar is dissolved.\n",
      "2. Dip each ladyfinger into the coffee mixture for about 3-5 seconds on each side. They should be soft and pliable but not too wet. If they get too wet, they may break apart when layered.\n",
      "3. In a separate mixing bowl, combine the non-dairy milk, cornstarch, and vanilla extract. Mix well to create a smooth mixture.\n",
      "4. Layer the ladyfingers in a large dish or serving platter, starting with the coffee-soaked side facing upwards. You may need to trim the ladyfingers slightly to fit them into the dish.\n",
      "5. Spread half of the milk mixture over the ladyfingers, making sure to cover them evenly.\n",
      "6. Top the milk mixture with the vegan mascarpone cheese. You can use a spatula or an off-set spatula to smooth out the top and create a layered effect.\n",
      "7. Repeat the layers, starting with the ladyfingers, then the milk mixture, and finally the remaining vegan mascarpone cheese.\n",
      "8. Cover the dish with plastic wrap and refrigerate for at least 2 hours or overnight to allow the flavors to meld together.\n",
      "9. Before serving, garnish with cocoa powder or chocolate shavings if desired.\n",
      "\n",
      "Tips:\n",
      "\n",
      "* Use high-quality coffee and non-dairy milk to ensure a rich and smooth texture.\n",
      "* If you find that your ladyfingers are too soft, you can try bending them slightly to create a more stable layer.\n",
      "* You can also use other types of cookies or biscuits instead of ladyfingers, such as anise or chocolate-dipped ones.\n",
      "* To make the vegan mascarpone cheese, you can use a mixture of soy protein and cornstarch, blended together and heated until it forms a creamy consistency. You can also use tofu-based mascarpone cheese available in some grocery stores.\n",
      "\n",
      "Enjoy your vegan Tiramisu!\n"
     ]
    }
   ],
   "source": [
    "print(llm.invoke(\"Please show me a recipe for a vegan Tiramisu!\"))"
   ]
  },
  {
   "cell_type": "markdown",
   "metadata": {},
   "source": [
    "### Modify the behavior by modifying the prompt"
   ]
  },
  {
   "cell_type": "code",
   "execution_count": 14,
   "metadata": {},
   "outputs": [
    {
     "name": "stdout",
     "output_type": "stream",
     "text": [
      "No worries, mate! *adjusts sunglasses* Life, ya see, it's a bit of a ripper, isn't it? *grins* It's like, full of ups and downs, ya know? But that's what makes it so bloody interesting, mate. *chuckles*\n",
      "\n",
      "I reckon life is about findin' yer place in the world, doin' somethin' you love, and bein' true to yerself. It's like, don't worry too much about what others think, just do what feels right for ya. And always keep a good sense of humor, mate! *winks*\n",
      "\n",
      "But hey, life's not all smooth sailin', there'll be times when it gets tough, but that's where the real learnin' happens, ya know? So don't be afraid to take some risks and try new things. And always remember, mate, that life's too short to be worryin' about what could've been, just enjoy the here and now! *thumbs up*\n",
      "\n",
      "So there you have it, my take on life, mate! What do ya think? Have any questions or just wanna shoot the breeze? *smiles*\n"
     ]
    }
   ],
   "source": [
    "from langchain_core.prompts import ChatPromptTemplate\n",
    "\n",
    "prompt = ChatPromptTemplate.from_messages([\n",
    "    (\"system\", \"You talk like an Australian guy.\"),\n",
    "    (\"user\", \"{input}\")\n",
    "])\n",
    "\n",
    "chain = prompt | llm \n",
    "print(chain.invoke({\"input\": \"What is life all about?\"}))"
   ]
  },
  {
   "cell_type": "markdown",
   "metadata": {},
   "source": [
    "### Test what the llm knows about stem cell biology"
   ]
  },
  {
   "cell_type": "code",
   "execution_count": 15,
   "metadata": {},
   "outputs": [
    {
     "name": "stdout",
     "output_type": "stream",
     "text": [
      "\n",
      "Stemness is a critical property of stem cells that refers to their ability to maintain their undifferentiated state and retain their ability to differentiate into various cell types. Stem cells are defined by their capacity to self-renew ( divide to produce more stem cells) and differentiate (to give rise to specialized cell types). The term \"stemness\" was introduced to describe the unique properties of stem cells that distinguish them from other cell types.\n",
      "\n",
      "Stemness is a complex trait that involves multiple molecular mechanisms, including epigenetic regulation, signaling pathways, and transcription factor networks. Here are some key aspects of stemness:\n",
      "\n",
      "1. Self-renewal: Stem cells have the ability to divide without differentiating, producing more stem cells that maintain the pool of stem cells in a tissue or organism.\n",
      "2. Multipotency: Stem cells can give rise to multiple cell types, including blood cells, nerve cells, muscle cells, and so on.\n",
      "3. Plasticity: Stem cells are highly flexible and can differentiate into different cell types depending on the microenvironmental cues they receive.\n",
      "4. Quiescence: Stem cells can enter a state of dormancy or quiescence, which allows them to survive in a low-nutrient environment without dividing.\n",
      "5. Cellular reprogramming: Stem cells can undergo cellular reprogramming, which involves the reversible transition of stem cells from one cell type to another.\n",
      "6. Heterogeneity: Stem cells are not homogeneous and can be subdivided into different subpopulations based on their gene expression profiles and functional properties.\n",
      "7. Niche interaction: Stem cells interact with a specific microenvironment, known as the stem cell niche, which provides them with essential factors for survival and self-renewal.\n",
      "8. Epigenetic regulation: Stem cells have unique epigenetic patterns that are critical for their maintenance of pluripotency and self-renewal.\n",
      "9. Signaling pathways: Stem cells use specific signaling pathways to communicate with each other and their microenvironment, such as the Notch, Wnt/β-catenin, and BMP signaling pathways.\n",
      "10. Transcription factor networks: Stem cells have unique transcription factor networks that regulate their self-renewal and differentiation potentials. These networks involve a complex interplay between transcription factors, coregulators, and epigenetic modulators.\n",
      "\n",
      "Understanding the concept of stemness is crucial for understanding how stem cells work and how they can be manipulated for therapeutic applications, such as regenerative medicine. By studying stemness in various organisms, including humans, scientists can identify potential strategies to enhance stem cell function or replace damaged or diseased stem cells with healthy ones.\n"
     ]
    }
   ],
   "source": [
    "print(llm.invoke(\"Please explain the concept of stemness of stem cells to me!\"))"
   ]
  },
  {
   "cell_type": "code",
   "execution_count": 16,
   "metadata": {},
   "outputs": [
    {
     "name": "stdout",
     "output_type": "stream",
     "text": [
      "\n",
      "Within-tissue plasticity refers to the ability of tissues to change their internal organization and function in response to changes in their external environment. This can involve changes in the distribution of cells, extracellular matrix (ECM), and blood vessels within the tissue. The concept of within-tissue plasticity recognizes that tissues are not static structures, but rather dynamic systems that can adapt and change in response to various stimuli.\n",
      "\n",
      "There are several types of within-tissue plasticity, including:\n",
      "\n",
      "1. Cellular plasticity: This refers to the ability of cells to change their behavior in response to changes in the tissue environment. For example, some cells may change from a contractile to a secretory function in response to injury or inflammation.\n",
      "2. ECM plasticity: This refers to the ability of the ECM to change its structure and composition in response to changes in the tissue environment. For example, the ECM can become more rigid or flexible in response to mechanical stress.\n",
      "3. Vascular plasticity: This refers to the ability of blood vessels to change their diameter and distribution within the tissue in response to changes in the tissue environment. For example, blood vessels may constrict or dilate in response to changes in local blood pressure.\n",
      "4. Interstitial plasticity: This refers to the ability of the interstitial space (the space between cells) to change its composition and structure in response to changes in the tissue environment. For example, the interstitial space may become more or less fluid in response to inflammation or injury.\n",
      "\n",
      "Within-tissue plasticity is thought to be mediated by a variety of cellular and molecular mechanisms, including:\n",
      "\n",
      "1. Cell signaling pathways: These pathways can activate or inhibit various cellular processes, such as cell proliferation, migration, and differentiation.\n",
      "2. Matrix-cell interactions: The ECM can interact with cells to modulate their behavior and function. For example, the ECM can provide mechanical support or regulatory signals to cells.\n",
      "3. Blood flow and oxygenation: The distribution of blood vessels and oxygen availability within the tissue can affect cellular metabolism and function.\n",
      "4. Hormonal and neurotransmitter signaling: Hormones and neurotransmitters can regulate various physiological processes, including cell growth and differentiation, inflammation, and immune response.\n",
      "\n",
      "Within-tissue plasticity is important for maintaining tissue homeostasis and function, as well as for responding to injury or disease. Dysregulation of within-tissue plasticity has been implicated in a variety of diseases, including cancer, cardiovascular disease, and neurological disorders.\n",
      "\n",
      "Understanding the mechanisms of within-tissue plasticity is an active area of research, with implications for the development of new therapeutic strategies for a variety of diseases.\n"
     ]
    }
   ],
   "source": [
    "print(llm.invoke(\"Please explain the concept of within-tissue plasticity to me!\"))"
   ]
  },
  {
   "cell_type": "markdown",
   "metadata": {},
   "source": [
    "## Use retrieval augmented generation"
   ]
  },
  {
   "cell_type": "code",
   "execution_count": 17,
   "metadata": {},
   "outputs": [],
   "source": [
    "from langchain_community.document_loaders import WebBaseLoader\n",
    "loader = WebBaseLoader(\"https://pubmed.ncbi.nlm.nih.gov/12160836/\")\n",
    "docs = loader.load()"
   ]
  },
  {
   "cell_type": "code",
   "execution_count": 18,
   "metadata": {},
   "outputs": [],
   "source": [
    "from langchain_community.embeddings import OllamaEmbeddings\n",
    "embeddings = OllamaEmbeddings()"
   ]
  },
  {
   "cell_type": "code",
   "execution_count": 19,
   "metadata": {},
   "outputs": [],
   "source": [
    "from langchain_community.vectorstores import FAISS\n",
    "from langchain_text_splitters import RecursiveCharacterTextSplitter\n",
    "\n",
    "\n",
    "text_splitter = RecursiveCharacterTextSplitter()\n",
    "documents = text_splitter.split_documents(docs)\n",
    "vector = FAISS.from_documents(documents, embeddings)"
   ]
  },
  {
   "cell_type": "code",
   "execution_count": 20,
   "metadata": {},
   "outputs": [],
   "source": [
    "from langchain_core.prompts import ChatPromptTemplate\n",
    "from langchain.chains.combine_documents import create_stuff_documents_chain\n",
    "\n",
    "prompt = ChatPromptTemplate.from_template(\"\"\"Answer the following question based only on the provided context:\n",
    "\n",
    "<context>\n",
    "{context}\n",
    "</context>\n",
    "\n",
    "Question: {input}\"\"\")\n",
    "\n",
    "document_chain = create_stuff_documents_chain(llm, prompt)"
   ]
  },
  {
   "cell_type": "code",
   "execution_count": 21,
   "metadata": {},
   "outputs": [
    {
     "name": "stdout",
     "output_type": "stream",
     "text": [
      "\n",
      "Stemness is a critical property of stem cells, which refers to their ability to maintain a state of self-renewal and multipotency. In other words, stem cells have the capacity to divide and give rise to more stem cells or differentiated cells, while retaining their undifferentiated state.\n",
      "\n",
      "Stemness is characterized by several key features:\n",
      "\n",
      "1. Self-renewal: Stem cells can divide to produce more stem cells, maintaining their population size without differentiating.\n",
      "2. Multipotency: Stem cells have the ability to give rise to multiple cell types or lineages, such as blood cells, nerve cells, and muscle cells.\n",
      "3. Plasticity: Stem cells can change their fate in response to changes in their environment or exposure to different growth factors.\n",
      "4. Quiescence: Stem cells can enter a state of dormancy, which allows them to survive under adverse conditions.\n",
      "5. Slow cycling: Stem cells divide at a slower rate compared to other cell types, which allows them to maintain their undifferentiated state for longer periods.\n",
      "6. Heterogeneity: Stem cells are not homogeneous; they can be classified into different subtypes based on their surface markers and function.\n",
      "7. Epigenetic modulation: Stem cells can undergo epigenetic changes, such as DNA methylation and histone modifications, to regulate their gene expression and maintain their stemness.\n",
      "8. Cell-cell interactions: Stem cells interact with other cells in the niche, which provides them with growth factors and signals that promote their self-renewal and multipotency.\n",
      "9. Tissue-specific niches: Stem cells are embedded in specific tissue microenvironments, such as bone marrow or adipose tissue, which provide them with the necessary support to maintain their stemness.\n",
      "\n",
      "Stemness is a dynamic property that can be modulated by various factors, including growth factors, hormones, and stress signals. Understanding the mechanisms of stemness is crucial for the development of regenerative medicine and tissue engineering strategies, as well as for the study of normal tissue homeostasis and disease progression.\n"
     ]
    }
   ],
   "source": [
    "from langchain_core.documents import Document\n",
    "from langchain.chains import create_retrieval_chain\n",
    "\n",
    "retriever = vector.as_retriever()\n",
    "retrieval_chain = create_retrieval_chain(retriever, document_chain)\n",
    "\n",
    "response = retrieval_chain.invoke({\"input\": \"Please explain the concept of stemness to me!\"})\n",
    "print(response[\"answer\"])\n"
   ]
  },
  {
   "cell_type": "markdown",
   "metadata": {},
   "source": [
    "## Use RAG for getting information about a specific article"
   ]
  },
  {
   "cell_type": "code",
   "execution_count": 22,
   "metadata": {},
   "outputs": [
    {
     "name": "stdout",
     "output_type": "stream",
     "text": [
      "I'm just an AI, I don't have access to real-time news or information, and I cannot provide a quote from Lutz Leichsenring as he may have made the statement in the past, but it is not current news. Additionally, I cannot verify the accuracy of any statements attributed to him without further context. If you can provide more information or clarify the context in which you heard this quote, I would be happy to help you further.\n"
     ]
    }
   ],
   "source": [
    "result = llm.invoke(\"What did Lutz Leichsenring tell the German broadcaster DW?\")\n",
    "print(result)\n"
   ]
  },
  {
   "cell_type": "code",
   "execution_count": 23,
   "metadata": {},
   "outputs": [],
   "source": [
    "loader = WebBaseLoader(\"https://www.theguardian.com/world/2024/mar/15/berlins-techno-scene-added-to-unesco-intangible-cultural-heritage-list\")\n",
    "docs = loader.load()\n",
    "documents = text_splitter.split_documents(docs)\n",
    "vector = FAISS.from_documents(documents, embeddings)"
   ]
  },
  {
   "cell_type": "code",
   "execution_count": 24,
   "metadata": {},
   "outputs": [
    {
     "name": "stdout",
     "output_type": "stream",
     "text": [
      "Lutz Leichsenring told the German broadcaster DW that the decision to add Berlin's techno scene to Germany's list of intangible cultural heritage will help ensure that club culture is recognized as a valuable sector worthy of protection and support.\n"
     ]
    }
   ],
   "source": [
    "retriever = vector.as_retriever()\n",
    "retrieval_chain = create_retrieval_chain(retriever, document_chain)\n",
    "\n",
    "response = retrieval_chain.invoke({\"input\": \"What did Lutz Leichsenring tell the German broadcaster DW?\"})\n",
    "print(response[\"answer\"])\n"
   ]
  }
 ],
 "metadata": {
  "kernelspec": {
   "display_name": "Python 3 (ipykernel)",
   "language": "python",
   "name": "python3"
  },
  "language_info": {
   "codemirror_mode": {
    "name": "ipython",
    "version": 3
   },
   "file_extension": ".py",
   "mimetype": "text/x-python",
   "name": "python",
   "nbconvert_exporter": "python",
   "pygments_lexer": "ipython3",
   "version": "3.12.2"
  }
 },
 "nbformat": 4,
 "nbformat_minor": 4
}
